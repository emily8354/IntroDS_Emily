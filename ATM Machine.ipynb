{
 "cells": [
  {
   "cell_type": "code",
   "execution_count": null,
   "metadata": {},
   "outputs": [],
   "source": [
    "class Account():\n",
    "    def __init__(self,Id,balance,annualInterestRate):\n",
    "        self.Id = Id\n",
    "        self.balance = balance\n",
    "        self.annualInterestRate = annualInterestRate\n",
    "        \n",
    "    def getMonthlyInterestRate(self):\n",
    "        return (self.annualInterestRate/100)/12\n",
    "    \n",
    "    def getMonthlyInterest(self):\n",
    "        return self.balance*getMonthlyInterestRate()\n",
    "    \n",
    "    def withdraw(self,amount):\n",
    "        self.balance-=amount\n",
    "    \n",
    "    def deposit(amount):\n",
    "        self.balance+=amount\n",
    "    \n",
    "    def getId(self):\n",
    "        return self.Id\n",
    "    \n",
    "    def setId(self,newId):\n",
    "        self.Id = newId\n",
    "    \n",
    "    def getBalance(self):\n",
    "        return self.balance\n",
    "\n",
    "    def setBalance(self,newBalance):\n",
    "        self.balance = newBalance\n",
    "    \n",
    "    def getAnnualInterestRate(self):\n",
    "        return annualInterestRate\n",
    "    \n",
    "    def setAnnualInterestRate(self,newRate):\n",
    "        self.annualInterestRate = newRate\n",
    "    "
   ]
  },
  {
   "cell_type": "code",
   "execution_count": null,
   "metadata": {},
   "outputs": [],
   "source": [
    "def printMainMenu():\n",
    "    print(\"Main menu\")\n",
    "    print(\"1: check balance\")\n",
    "    print(\"2: withdraw\")\n",
    "    print(\"3: deposit\")\n",
    "    print(\"4: exit\")"
   ]
  },
  {
   "cell_type": "code",
   "execution_count": null,
   "metadata": {},
   "outputs": [],
   "source": [
    "atm = list()\n",
    "for i in range(0,10):\n",
    "    atm.append(Account(i,100,0))\n",
    "while(True):   \n",
    "    Id = input(\"Enter an id: \")\n",
    "    Id = int(Id)\n",
    "    if Id < 0 or Id > 9:\n",
    "        print(\"Enter an id from 0 to 9\")\n",
    "        Id = input(\"Enter an id: \")\n",
    "    choice = 0\n",
    "    while(choice != 4):\n",
    "        printMainMenu()\n",
    "        choice = input(\"Enter a choice: \")\n",
    "        choice = int(choice)\n",
    "        if choice == 1:\n",
    "            print(\"The balance is \",atm[Id].getBalance())\n",
    "        elif choice == 2:\n",
    "            amount = input(\"Enter an amount to withdraw: \")\n",
    "            atm[Id].withdraw(int(amount))\n",
    "        elif choice == 3:\n",
    "            amount = input(\"Enter an amount to deposit: \")  \n",
    "            atm[Id].deposit(int(amount))"
   ]
  },
  {
   "cell_type": "code",
   "execution_count": null,
   "metadata": {},
   "outputs": [],
   "source": []
  }
 ],
 "metadata": {
  "kernelspec": {
   "display_name": "Python 3",
   "language": "python",
   "name": "python3"
  },
  "language_info": {
   "codemirror_mode": {
    "name": "ipython",
    "version": 3
   },
   "file_extension": ".py",
   "mimetype": "text/x-python",
   "name": "python",
   "nbconvert_exporter": "python",
   "pygments_lexer": "ipython3",
   "version": "3.7.4"
  }
 },
 "nbformat": 4,
 "nbformat_minor": 2
}
