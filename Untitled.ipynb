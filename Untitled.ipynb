{
 "cells": [
  {
   "cell_type": "code",
   "execution_count": null,
   "metadata": {},
   "outputs": [],
   "source": [
    "num1 = input(\"Enter a number\")\n",
    "num2 = input(\"Enter another number\")\n",
    "num1 = int(num1)\n",
    "num2 = int(num2)\n",
    "smallest = 0;\n",
    "if num1 < num2 :\n",
    "    smallest = num1\n",
    "if num2 < num1 :\n",
    "    smallest = num2\n",
    "i = smallest\n",
    "GCF = 0\n",
    "while i > 0 :\n",
    "    if num1 % i == 0 and num2 % i == 0 :\n",
    "        GCF = i\n",
    "        break\n",
    "    i = i-1\n",
    "print(GCF)\n"
   ]
  },
  {
   "cell_type": "code",
   "execution_count": null,
   "metadata": {},
   "outputs": [],
   "source": [
    "x = input('Enetr a string')\n",
    "y = 0\n",
    "for i in x:\n",
    "    if i == 'a':\n",
    "        y+=1\n",
    "print(y)"
   ]
  },
  {
   "cell_type": "code",
   "execution_count": 2,
   "metadata": {},
   "outputs": [
    {
     "name": "stdout",
     "output_type": "stream",
     "text": [
      "Enetr a stringzaa\n",
      "2\n"
     ]
    }
   ],
   "source": [
    "x = input('Enetr a string')\n",
    "i = 0\n",
    "y = 0\n",
    "while i < len(x):\n",
    "    if x[i] == 'a':\n",
    "        y+=1\n",
    "    i+=1\n",
    "print(y)"
   ]
  },
  {
   "cell_type": "code",
   "execution_count": 3,
   "metadata": {},
   "outputs": [
    {
     "name": "stdout",
     "output_type": "stream",
     "text": [
      "nameghostbusters\n",
      "olds\n",
      "new*\n",
      "gho*tbu*ter*\n"
     ]
    }
   ],
   "source": [
    "stri = input(\"name\")\n",
    "old = input(\"old\")\n",
    "new = input(\"new\")\n",
    "re = stri.replace(old,new)\n",
    "print(re)"
   ]
  },
  {
   "cell_type": "code",
   "execution_count": 9,
   "metadata": {},
   "outputs": [
    {
     "name": "stdout",
     "output_type": "stream",
     "text": [
      "[7, 5, 3]\n",
      "15\n",
      "105\n"
     ]
    }
   ],
   "source": [
    "number = 357\n",
    "digits = list()\n",
    "while number > 0:\n",
    "    digits.append(number%10)\n",
    "    number = (int)(number/10)\n",
    "print(digits)\n",
    "digitSum = 0\n",
    "digitProduct = 1\n",
    "for i in digits:\n",
    "    digitSum+=i\n",
    "    digitProduct*=i\n",
    "print(digitSum)\n",
    "print(digitProduct)"
   ]
  },
  {
   "cell_type": "code",
   "execution_count": null,
   "metadata": {},
   "outputs": [],
   "source": []
  }
 ],
 "metadata": {
  "kernelspec": {
   "display_name": "Python 3",
   "language": "python",
   "name": "python3"
  },
  "language_info": {
   "codemirror_mode": {
    "name": "ipython",
    "version": 3
   },
   "file_extension": ".py",
   "mimetype": "text/x-python",
   "name": "python",
   "nbconvert_exporter": "python",
   "pygments_lexer": "ipython3",
   "version": "3.7.4"
  }
 },
 "nbformat": 4,
 "nbformat_minor": 2
}
