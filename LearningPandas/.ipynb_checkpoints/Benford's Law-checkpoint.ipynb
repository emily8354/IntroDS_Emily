{
 "cells": [
  {
   "cell_type": "code",
   "execution_count": 31,
   "metadata": {},
   "outputs": [],
   "source": [
    "def firstNum(num):\n",
    "    while num>10:\n",
    "        num/=10\n",
    "    return int(num%10)"
   ]
  },
  {
   "cell_type": "code",
   "execution_count": 32,
   "metadata": {},
   "outputs": [],
   "source": [
    "def makeFib(num):\n",
    "    fib = [1,1]\n",
    "    for i in range (num-2):\n",
    "        fib.append(fib[-1]+fib[-2])\n",
    "    return fib"
   ]
  },
  {
   "cell_type": "code",
   "execution_count": 33,
   "metadata": {},
   "outputs": [
    {
     "name": "stdout",
     "output_type": "stream",
     "text": [
      "1 = 151\n",
      "2 = 239\n",
      "3 = 302\n",
      "4 = 349\n",
      "5 = 389\n",
      "6 = 422\n",
      "7 = 451\n",
      "8 = 478\n",
      "9 = 500\n"
     ]
    }
   ],
   "source": [
    "fib = makeFib(500)  \n",
    "count = 0\n",
    "for j in range (1,10):\n",
    "    for i in range (0,len(fib)):\n",
    "        if firstNum(fib[i]) == j:\n",
    "            count+=1\n",
    "    print(str(j)+\" = \"+str(count))"
   ]
  },
  {
   "cell_type": "code",
   "execution_count": 1,
   "metadata": {},
   "outputs": [
    {
     "name": "stdout",
     "output_type": "stream",
     "text": [
      "Object `fib` not found.\n"
     ]
    }
   ],
   "source": []
  },
  {
   "cell_type": "code",
   "execution_count": null,
   "metadata": {},
   "outputs": [],
   "source": []
  }
 ],
 "metadata": {
  "kernelspec": {
   "display_name": "Python 3",
   "language": "python",
   "name": "python3"
  },
  "language_info": {
   "codemirror_mode": {
    "name": "ipython",
    "version": 3
   },
   "file_extension": ".py",
   "mimetype": "text/x-python",
   "name": "python",
   "nbconvert_exporter": "python",
   "pygments_lexer": "ipython3",
   "version": "3.7.4"
  }
 },
 "nbformat": 4,
 "nbformat_minor": 2
}
