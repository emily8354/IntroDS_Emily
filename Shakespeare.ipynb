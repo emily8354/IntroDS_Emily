{
 "cells": [
  {
   "cell_type": "code",
   "execution_count": null,
   "metadata": {},
   "outputs": [],
   "source": [
    "import random\n",
    "from csv import reader\n",
    "opened = open('Shakespeare_sentences.txt')\n",
    "read = reader(opened,delimiter='\\n')\n",
    "sentences = list(read)\n",
    "for i in range (len(sentences)):\n",
    "    sentences[i] = sentences[i][0]\n",
    "for i in range (0,10):\n",
    "    print(sentences[i])\n",
    "    print()"
   ]
  },
  {
   "cell_type": "code",
   "execution_count": null,
   "metadata": {},
   "outputs": [],
   "source": [
    "print(len(sentences))"
   ]
  },
  {
   "cell_type": "code",
   "execution_count": null,
   "metadata": {},
   "outputs": [],
   "source": [
    "# making all the words in the sentence lowercase except for the first word\n",
    "for i in range (len(sentences)):\n",
    "    sentences[i] = sentences[i][0]+sentences[i][1:].lower()\n",
    "for i in range (0,10):\n",
    "    print(sentences[i])\n",
    "    print()"
   ]
  },
  {
   "cell_type": "code",
   "execution_count": null,
   "metadata": {},
   "outputs": [],
   "source": [
    "def wordlist(sentences):\n",
    "    wordlist = list()\n",
    "    for s in sentences:\n",
    "        words = s.split()\n",
    "        for w in words:\n",
    "            wordlist.append(w)\n",
    "    return wordlist"
   ]
  },
  {
   "cell_type": "code",
   "execution_count": null,
   "metadata": {},
   "outputs": [],
   "source": [
    "wordlist = wordlist(sentences)\n",
    "print(len(wordlist))\n",
    "print(wordlist[:50])"
   ]
  },
  {
   "cell_type": "code",
   "execution_count": null,
   "metadata": {},
   "outputs": [],
   "source": [
    "def unique_words(wordlist):\n",
    "    unique = set()\n",
    "    for w in wordlist:\n",
    "        unique.add(w)\n",
    "    return unique"
   ]
  },
  {
   "cell_type": "code",
   "execution_count": null,
   "metadata": {},
   "outputs": [],
   "source": [
    "unique = unique_words(wordlist)\n",
    "print(len(unique))"
   ]
  },
  {
   "cell_type": "code",
   "execution_count": null,
   "metadata": {},
   "outputs": [],
   "source": [
    "def is_ending(word):\n",
    "    if word[-1] == '.':\n",
    "        return True\n",
    "    elif word[-1] == '!':\n",
    "        return True\n",
    "    elif word[-1] == '?':\n",
    "        return True\n",
    "    return False"
   ]
  },
  {
   "cell_type": "code",
   "execution_count": null,
   "metadata": {},
   "outputs": [],
   "source": [
    "print(is_ending('heiuvb?'))\n",
    "print(is_ending('bvjrbe'))\n",
    "print(is_ending('bevub.'))\n",
    "print(is_ending('hucbnfr!'))"
   ]
  },
  {
   "cell_type": "code",
   "execution_count": null,
   "metadata": {},
   "outputs": [],
   "source": [
    "def first_words(unique):\n",
    "    first_words = list()\n",
    "    for u in unique:\n",
    "        if u[0].isupper():\n",
    "            first_words.append(u)\n",
    "    return first_words"
   ]
  },
  {
   "cell_type": "code",
   "execution_count": null,
   "metadata": {},
   "outputs": [],
   "source": [
    "first_words = first_words(unique)\n",
    "print(len(first_words))"
   ]
  },
  {
   "cell_type": "code",
   "execution_count": null,
   "metadata": {},
   "outputs": [],
   "source": [
    "def end_words(unique):\n",
    "    end_words = list()\n",
    "    for u in unique:\n",
    "        if is_ending(u):\n",
    "            end_words.append(u)\n",
    "    return end_words"
   ]
  },
  {
   "cell_type": "code",
   "execution_count": null,
   "metadata": {},
   "outputs": [],
   "source": [
    "end_words = end_words(unique)\n",
    "print(len(end_words))"
   ]
  },
  {
   "cell_type": "code",
   "execution_count": null,
   "metadata": {},
   "outputs": [],
   "source": [
    "# works but takes too long with the actual data\n",
    "# don't know how to make it more efficient \n",
    "def nexties(wordlist,unique):\n",
    "    nexties = dict()\n",
    "    for u in unique:\n",
    "        next_words = set()\n",
    "        if is_ending(u):\n",
    "            continue\n",
    "        for i in range (len(wordlist)-1):\n",
    "            if wordlist[i] == u:\n",
    "                next_words.add(wordlist[i+1])\n",
    "        nexties[u] = next_words \n",
    "    return nexties\n",
    "wordlist2 = ['he','yes','go.','sure','go','car','yes','bump','go']\n",
    "unique2 = {'he','yes','go','sure','car','bump'}\n",
    "nexties = nexties(wordlist2,unique2)\n",
    "print(nexties)\n",
    "a = random.sample(nexties['From'],1)\n",
    "print(a)"
   ]
  },
  {
   "cell_type": "code",
   "execution_count": null,
   "metadata": {},
   "outputs": [],
   "source": [
    "# idea is given a first word you keep on generating a random next word based off of the \n",
    "# nexties dictionary until you reach an end word/ a word with punctuation\n",
    "count = 0\n",
    "num_sentences = 2\n",
    "while count < num_sentences:\n",
    "    i = 0\n",
    "    words = list()\n",
    "    first = random.choice(first_words)\n",
    "    words.append(first)\n",
    "    sentence = first\n",
    "    while is_ending(words[-1]) == False:\n",
    "        new = random.choice(nexties[words[i]])\n",
    "        sentence = sentence+' '+new\n",
    "        words.append(new)\n",
    "        i+=1\n",
    "    count+=1"
   ]
  },
  {
   "cell_type": "code",
   "execution_count": null,
   "metadata": {},
   "outputs": [],
   "source": []
  },
  {
   "cell_type": "code",
   "execution_count": null,
   "metadata": {},
   "outputs": [],
   "source": []
  }
 ],
 "metadata": {
  "kernelspec": {
   "display_name": "Python 3",
   "language": "python",
   "name": "python3"
  },
  "language_info": {
   "codemirror_mode": {
    "name": "ipython",
    "version": 3
   },
   "file_extension": ".py",
   "mimetype": "text/x-python",
   "name": "python",
   "nbconvert_exporter": "python",
   "pygments_lexer": "ipython3",
   "version": "3.7.4"
  }
 },
 "nbformat": 4,
 "nbformat_minor": 2
}
