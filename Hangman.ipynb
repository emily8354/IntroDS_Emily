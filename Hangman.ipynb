{
 "cells": [
  {
   "cell_type": "code",
   "execution_count": null,
   "metadata": {},
   "outputs": [],
   "source": [
    "def playGame(words,missed,letters,guess):\n",
    "    for char in secret:\n",
    "        guess+='*'\n",
    "    while '*' in guess and missed <= 15:\n",
    "        print(guess)\n",
    "        answer = input(\"Are you guessing a letter or a word? Enter l or w\")\n",
    "        if answer == 'l':\n",
    "            letter = input(\"Enter a letter in the word: \")\n",
    "            if letter in letters:\n",
    "                print(letter+\" has already been guessed\")\n",
    "                if letter not in secret:\n",
    "                    missed+=1\n",
    "            else:\n",
    "                if letter not in letters:\n",
    "                    letters.append(letter)\n",
    "                if letter in secret:\n",
    "                    for i in range (0,len(secret)):\n",
    "                        if secret[i] == letter:\n",
    "                            guess = guess[:i]+letter+guess[(i+1):]\n",
    "                else:\n",
    "                    print(letter+\" is not in the word\")\n",
    "                    missed+=1\n",
    "        elif answer == 'w':\n",
    "            user = input(\"Enter your word: \")\n",
    "            if user == secret:\n",
    "                print(\"You guessed correctly! \")\n",
    "                guess = user\n",
    "            else:\n",
    "                print(\"That was not the word...\")\n",
    "                minus = len(user)\n",
    "                for i in letters:\n",
    "                    if i in user:\n",
    "                        minus-=1\n",
    "                missed+=minus\n",
    "        else:\n",
    "            print(\"Please enter either l or w\")\n",
    "        if missed > 15:\n",
    "            print('Game over')\n",
    "            break\n",
    "    return missed"
   ]
  },
  {
   "cell_type": "code",
   "execution_count": null,
   "metadata": {},
   "outputs": [],
   "source": [
    "import random\n",
    "words = (\"awkward\",\"haphazard\",\"sky\",\"zeugma\",\"abyss\",\"hyphen\",\"oxygen\",\"phlegm\",\"squawk\",\"zephyr\",\"oxymoron\",\"stewardess\")\n",
    "guessAnother = True\n",
    "while(guessAnother):\n",
    "    missed = 0\n",
    "    guess = ''\n",
    "    letters = list()\n",
    "    secret = random.choice(words)\n",
    "    missed = playGame(words,missed,letters,guess)\n",
    "    print(\"The word is \"+secret+\". You missed \"+str(missed)+\" times\")\n",
    "    answer = input(\"Do you want to guess another word? Enter y or n\")\n",
    "    if answer == 'n':\n",
    "        guessAnother = False     "
   ]
  },
  {
   "cell_type": "code",
   "execution_count": null,
   "metadata": {},
   "outputs": [],
   "source": []
  }
 ],
 "metadata": {
  "kernelspec": {
   "display_name": "Python 3",
   "language": "python",
   "name": "python3"
  },
  "language_info": {
   "codemirror_mode": {
    "name": "ipython",
    "version": 3
   },
   "file_extension": ".py",
   "mimetype": "text/x-python",
   "name": "python",
   "nbconvert_exporter": "python",
   "pygments_lexer": "ipython3",
   "version": "3.7.4"
  }
 },
 "nbformat": 4,
 "nbformat_minor": 2
}
