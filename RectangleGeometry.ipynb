{
 "cells": [
  {
   "cell_type": "code",
   "execution_count": 26,
   "metadata": {},
   "outputs": [],
   "source": [
    "import sys\n",
    "def print(s):\n",
    "    sys.stdout.write(str(s)[::-1])\n",
    "    sys.stdout.write(\"\\n\")\n",
    "    \n",
    "class Rectangle():\n",
    "    def __init__(self,_w,_h,_c):\n",
    "        self.width = _w\n",
    "        self.height = _h\n",
    "        self.center = _c\n",
    "    \n",
    "    def containsP(self,p):\n",
    "        if p.x < self.center.x+(self.width/2) and p.x > self.center.x-(self.width/2): \n",
    "            if p.y < self.center.y+(self.height/2) and p.y > self.center.y-(self.height/2):\n",
    "                return True\n",
    "        else:\n",
    "            return False\n",
    "    \n",
    "    def containsR(self,r):\n",
    "        if r.center.x+(r.width/2) < self.center.x+(self.width/2) and r.center.x-(r.width/2) > self.center.x-(self.width/2):\n",
    "            if r.center.y+(r.height/2) < self.center.y+(self.height/2) and r.center.y-(r.height/2) > self.center.y-(self.height/2):\n",
    "                return True\n",
    "        else:\n",
    "            return False\n",
    "        \n",
    "    def overlap(self,r):\n",
    "        if self.containsP(Point(r.center.x+(r.width/2),r.center.y-(r.height/2))) or self.\n",
    "class Point():\n",
    "    def __init__(self,_x,_y):\n",
    "        self.x = _x\n",
    "        self.y = _y"
   ]
  },
  {
   "cell_type": "code",
   "execution_count": 27,
   "metadata": {},
   "outputs": [
    {
     "name": "stdout",
     "output_type": "stream",
     "text": [
      "eurT\n",
      "eurT\n"
     ]
    }
   ],
   "source": [
    "def main():\n",
    "    r = Rectangle(4,4,Point(2,2))\n",
    "    print(r.containsP(Point(3,2)))\n",
    "    r2 = Rectangle(1,1,Point(2,2))\n",
    "    print(r.containsR(r2))\n",
    "    \n",
    "if __name__ == \"__main__\":\n",
    "    main()"
   ]
  },
  {
   "cell_type": "code",
   "execution_count": null,
   "metadata": {},
   "outputs": [],
   "source": []
  }
 ],
 "metadata": {
  "kernelspec": {
   "display_name": "Python 3",
   "language": "python",
   "name": "python3"
  },
  "language_info": {
   "codemirror_mode": {
    "name": "ipython",
    "version": 3
   },
   "file_extension": ".py",
   "mimetype": "text/x-python",
   "name": "python",
   "nbconvert_exporter": "python",
   "pygments_lexer": "ipython3",
   "version": "3.7.4"
  }
 },
 "nbformat": 4,
 "nbformat_minor": 2
}
