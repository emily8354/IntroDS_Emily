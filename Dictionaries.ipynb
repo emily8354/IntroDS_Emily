{
 "cells": [
  {
   "cell_type": "code",
   "execution_count": 1,
   "metadata": {},
   "outputs": [],
   "source": [
    "purse = dict()\n",
    "purse['money'] = 12\n",
    "purse['candy'] = 3\n",
    "purse['tissue'] = 75"
   ]
  },
  {
   "cell_type": "code",
   "execution_count": 4,
   "metadata": {},
   "outputs": [
    {
     "name": "stdout",
     "output_type": "stream",
     "text": [
      "12\n"
     ]
    }
   ],
   "source": [
    "print(purse['money'])"
   ]
  },
  {
   "cell_type": "code",
   "execution_count": 3,
   "metadata": {},
   "outputs": [
    {
     "name": "stdout",
     "output_type": "stream",
     "text": [
      "[21, 183]\n"
     ]
    }
   ],
   "source": [
    "lst = list()\n",
    "lst.append(21)\n",
    "lst.append(183)\n",
    "print(lst)"
   ]
  },
  {
   "cell_type": "code",
   "execution_count": 6,
   "metadata": {},
   "outputs": [
    {
     "name": "stdout",
     "output_type": "stream",
     "text": [
      "Writing : 1\n",
      "programs : 2\n",
      "or : 1\n",
      "programming : 1\n",
      "is : 2\n",
      "a : 3\n",
      "very : 2\n",
      "creative : 1\n",
      "and : 5\n",
      "rewarding : 1\n",
      "activity : 1\n",
      "You : 1\n",
      "can : 4\n",
      "write : 1\n",
      "for : 1\n",
      "many : 2\n",
      "reasons : 1\n",
      "ranging : 2\n",
      "from : 2\n",
      "making : 1\n",
      "your : 2\n",
      "living : 1\n",
      "to : 16\n",
      "solving : 1\n",
      "difficult : 1\n",
      "data : 1\n",
      "analysis : 1\n",
      "problem : 2\n",
      "having : 1\n",
      "fun : 1\n",
      "helping : 1\n",
      "someone : 1\n",
      "else : 1\n",
      "solve : 1\n",
      "This : 1\n",
      "book : 1\n",
      "assumes : 1\n",
      "that : 4\n",
      "{\\em : 1\n",
      "everyone} : 1\n",
      "needs : 1\n",
      "know : 2\n",
      "how : 2\n",
      "program : 1\n",
      "once : 1\n",
      "you : 4\n",
      "program, : 1\n",
      "will : 1\n",
      "figure : 1\n",
      "out : 1\n",
      "what : 2\n",
      "want : 1\n",
      "do : 5\n",
      "with : 2\n",
      "newfound : 1\n",
      "skills : 1\n",
      "We : 2\n",
      "are : 3\n",
      "surrounded : 1\n",
      "in : 2\n",
      "our : 5\n",
      "daily : 1\n",
      "lives : 1\n",
      "computers : 5\n",
      "laptops : 1\n",
      "cell : 1\n",
      "phones : 1\n",
      "think : 1\n",
      "of : 5\n",
      "these : 1\n",
      "as : 1\n",
      "personal : 1\n",
      "assistants : 1\n",
      "who : 1\n",
      "take : 1\n",
      "care : 1\n",
      "things : 3\n",
      "on : 2\n",
      "behalf : 2\n",
      "The : 1\n",
      "hardware : 1\n",
      "current-day : 1\n",
      "essentially : 1\n",
      "built : 1\n",
      "continuously : 1\n",
      "ask : 1\n",
      "us : 2\n",
      "the : 6\n",
      "question : 1\n",
      "What : 1\n",
      "would : 2\n",
      "like : 2\n",
      "me : 1\n",
      "next : 2\n",
      "Our : 1\n",
      "fast : 1\n",
      "have : 1\n",
      "vasts : 1\n",
      "amounts : 1\n",
      "memory : 1\n",
      "could : 2\n",
      "be : 1\n",
      "helpful : 1\n",
      "if : 1\n",
      "we : 5\n",
      "only : 1\n",
      "knew : 2\n",
      "language : 2\n",
      "speak : 1\n",
      "explain : 1\n",
      "computer : 2\n",
      "it : 1\n",
      "If : 1\n",
      "this : 1\n",
      "tell : 1\n",
      "tasks : 1\n",
      "were : 1\n",
      "reptitive : 1\n",
      "Interestingly, : 1\n",
      "kinds : 2\n",
      "best : 1\n",
      "often : 1\n",
      "humans : 1\n",
      "find : 1\n",
      "boring : 1\n",
      "mind-numbing : 1\n"
     ]
    }
   ],
   "source": [
    "file = open('words.txt')\n",
    "countList = list()\n",
    "s = file.read()\n",
    "lst = s.split()\n",
    "new = list()\n",
    "count = 0\n",
    "for word in lst:\n",
    "    for word2 in lst:\n",
    "        if word2 == word:\n",
    "            count = count + 1\n",
    "    if word not in new:\n",
    "        new.append(word)\n",
    "        countList.append(count)\n",
    "    count = 0\n",
    "for u in range(0, len(new)):\n",
    "    print(new[u], ':', countList[u])"
   ]
  },
  {
   "cell_type": "markdown",
   "metadata": {},
   "source": [
    "### Exercise 2"
   ]
  },
  {
   "cell_type": "code",
   "execution_count": 15,
   "metadata": {},
   "outputs": [
    {
     "name": "stdout",
     "output_type": "stream",
     "text": [
      "Enter the file name: mbox-short.txt\n",
      "{'Sat': 1, 'Fri': 20, 'Thu': 6}\n"
     ]
    }
   ],
   "source": [
    "inp = input('Enter the file name: ')\n",
    "file = open(inp)\n",
    "days = dict()\n",
    "for line in file:\n",
    "    if line.startswith('From'):\n",
    "        words = line.split()\n",
    "        if len(words) >= 3:\n",
    "            if words[2] not in days:\n",
    "                days[words[2]] = 1\n",
    "            else:\n",
    "                days[words[2]]+=1\n",
    "print(days)"
   ]
  },
  {
   "cell_type": "markdown",
   "metadata": {},
   "source": [
    "### Exercise 3"
   ]
  },
  {
   "cell_type": "code",
   "execution_count": 19,
   "metadata": {},
   "outputs": [
    {
     "name": "stdout",
     "output_type": "stream",
     "text": [
      "Enter the file name: mbox-short.txt\n",
      "{'stephen.marquard@uct.ac.za': 2, 'louis@media.berkeley.edu': 3, 'zqian@umich.edu': 4, 'rjlowe@iupui.edu': 2, 'cwen@iupui.edu': 5, 'gsilver@umich.edu': 3, 'wagnermr@iupui.edu': 1, 'antranig@caret.cam.ac.uk': 1, 'gopal.ramasammycook@gmail.com': 1, 'david.horwitz@uct.ac.za': 4, 'ray@media.berkeley.edu': 1}\n"
     ]
    }
   ],
   "source": [
    "inp = input('Enter the file name: ')\n",
    "file = open(inp)\n",
    "mail = dict()\n",
    "for line in file:\n",
    "    if line.startswith('From:'):\n",
    "        words = line.split()\n",
    "        if len(words) >= 2:\n",
    "            if words[1] not in mail:\n",
    "                mail[words[1]] = 1\n",
    "            else:\n",
    "                mail[words[1]]+=1\n",
    "print(mail)"
   ]
  },
  {
   "cell_type": "markdown",
   "metadata": {},
   "source": [
    "### Exercise 4"
   ]
  },
  {
   "cell_type": "code",
   "execution_count": 22,
   "metadata": {},
   "outputs": [
    {
     "name": "stdout",
     "output_type": "stream",
     "text": [
      "Enter the file name: mbox-short.txt\n",
      "cwen@iupui.edu 5\n"
     ]
    }
   ],
   "source": [
    "inp = input('Enter the file name: ')\n",
    "file = open(inp)\n",
    "mail = dict()\n",
    "for line in file:\n",
    "    if line.startswith('From:'):\n",
    "        words = line.split()\n",
    "        if len(words) >= 2:\n",
    "            if words[1] not in mail:\n",
    "                mail[words[1]] = 1\n",
    "            else:\n",
    "                mail[words[1]]+=1\n",
    "maxi = 0\n",
    "maxMail =''\n",
    "for key in mail:\n",
    "    if mail[key] > maxi:\n",
    "        maxi = mail[key]\n",
    "        maxMail = key\n",
    "print(maxMail, maxi)"
   ]
  },
  {
   "cell_type": "markdown",
   "metadata": {},
   "source": [
    "### Exercise 5"
   ]
  },
  {
   "cell_type": "code",
   "execution_count": 2,
   "metadata": {},
   "outputs": [
    {
     "name": "stdout",
     "output_type": "stream",
     "text": [
      "Enter the file name: mbox-short.txt\n",
      "{'uct.ac.za': 6, 'media.berkeley.edu': 4, 'umich.edu': 7, 'iupui.edu': 8, 'caret.cam.ac.uk': 1, 'gmail.com': 1}\n"
     ]
    }
   ],
   "source": [
    "inp = input('Enter the file name: ')\n",
    "file = open(inp)\n",
    "mail = dict()\n",
    "for line in file:\n",
    "    if line.startswith('From:'):\n",
    "        words = line.split()\n",
    "        address = words[1].split('@')\n",
    "        if address[1] not in mail:\n",
    "            mail[address[1]] = 1\n",
    "        else:\n",
    "            mail[address[1]]+=1\n",
    "print(mail)"
   ]
  },
  {
   "cell_type": "markdown",
   "metadata": {},
   "source": []
  }
 ],
 "metadata": {
  "kernelspec": {
   "display_name": "Python 3",
   "language": "python",
   "name": "python3"
  },
  "language_info": {
   "codemirror_mode": {
    "name": "ipython",
    "version": 3
   },
   "file_extension": ".py",
   "mimetype": "text/x-python",
   "name": "python",
   "nbconvert_exporter": "python",
   "pygments_lexer": "ipython3",
   "version": "3.7.4"
  }
 },
 "nbformat": 4,
 "nbformat_minor": 2
}
