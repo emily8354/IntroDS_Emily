{
 "cells": [
  {
   "cell_type": "code",
   "execution_count": 6,
   "metadata": {},
   "outputs": [],
   "source": [
    "class LinearEquation():\n",
    "    def __init__(self,a,b,c,d,e,f):\n",
    "        self.a = a\n",
    "        self.b = b\n",
    "        self.c = c\n",
    "        self.d = d\n",
    "        self.e = e\n",
    "        self.f = f\n",
    "        \n",
    "    def getA(self,a):\n",
    "        return a\n",
    "    \n",
    "    def getB(self,b):\n",
    "        return b\n",
    "    \n",
    "    def getC(self,c):\n",
    "        return c\n",
    "    \n",
    "    def getD(self,d):\n",
    "        return d\n",
    "    \n",
    "    def getE(self,e):\n",
    "        return e\n",
    "    \n",
    "    def getF(self,f):\n",
    "        return f\n",
    "    \n",
    "    def isSolvable(self):\n",
    "        if self.a*self.d-self.b*self.c != 0:\n",
    "            return True\n",
    "        else:\n",
    "            return False\n",
    "        \n",
    "    def getX(self):\n",
    "        return (self.e*self.d - self.b*self.f)/(self.a*self.d - self.b*self.c)\n",
    "    \n",
    "    def getY(self):\n",
    "        return (self.a*self.f - self.e*self.c)/(self.a*self.d - self.b*self.c)"
   ]
  },
  {
   "cell_type": "code",
   "execution_count": 7,
   "metadata": {},
   "outputs": [],
   "source": [
    "def makeVariables(points):\n",
    "    p = list()\n",
    "    p.append(points[0][1] - points[1][1])\n",
    "    p.append(-1*(points[0][0] - points[1][0]))\n",
    "    p.append(points[2][1] - points[3][1])\n",
    "    p.append(-1*(points[2][0] - points[3][0]))\n",
    "    p.append((points[0][1] - points[1][1])*points[0][0]-(points[0][0] - points[1][0])*points[0][1])\n",
    "    p.append((points[2][1] - points[3][1])*points[2][0]-(points[2][0] - points[3][0])*points[2][1])\n",
    "    return p"
   ]
  },
  {
   "cell_type": "code",
   "execution_count": 8,
   "metadata": {},
   "outputs": [
    {
     "name": "stdout",
     "output_type": "stream",
     "text": [
      "Enter x1: 2\n",
      "Enter y1: 2\n",
      "Enter x2: 0\n",
      "Enter y2: 0\n",
      "Enter x3: 0\n",
      "Enter y3: 2\n",
      "Enter x4: 2\n",
      "Enter y4: 0\n",
      "The intersecting point is (1.0, 1.0)\n"
     ]
    }
   ],
   "source": [
    "x1 = int(input(\"Enter x1: \"))\n",
    "y1 = int(input(\"Enter y1: \"))\n",
    "point1 = list()\n",
    "point1.append(x1)\n",
    "point1.append(y1)\n",
    "x2 = int(input(\"Enter x2: \"))\n",
    "y2 = int(input(\"Enter y2: \"))\n",
    "point2 = list()\n",
    "point2.append(x2)\n",
    "point2.append(y2)\n",
    "x3 = int(input(\"Enter x3: \"))\n",
    "y3 = int(input(\"Enter y3: \"))\n",
    "point3 = list()\n",
    "point3.append(x3)\n",
    "point3.append(y3)\n",
    "x4 = int(input(\"Enter x4: \"))\n",
    "y4 = int(input(\"Enter y4: \"))\n",
    "point4 = list()\n",
    "point4.append(x4)\n",
    "point4.append(y4)\n",
    "points = list()\n",
    "points.append(point1)\n",
    "points.append(point2)\n",
    "points.append(point3)\n",
    "points.append(point4)\n",
    "p = makeVariables(points)\n",
    "eq = LinearEquation(p[0],p[1],p[2],p[3],p[4],p[5])\n",
    "if eq.isSolvable():\n",
    "    print(\"The intersecting point is (\"+str(eq.getX())+\", \"+str(eq.getY())+\")\")"
   ]
  },
  {
   "cell_type": "code",
   "execution_count": null,
   "metadata": {},
   "outputs": [],
   "source": []
  },
  {
   "cell_type": "code",
   "execution_count": null,
   "metadata": {},
   "outputs": [],
   "source": []
  }
 ],
 "metadata": {
  "kernelspec": {
   "display_name": "Python 3",
   "language": "python",
   "name": "python3"
  },
  "language_info": {
   "codemirror_mode": {
    "name": "ipython",
    "version": 3
   },
   "file_extension": ".py",
   "mimetype": "text/x-python",
   "name": "python",
   "nbconvert_exporter": "python",
   "pygments_lexer": "ipython3",
   "version": "3.7.4"
  }
 },
 "nbformat": 4,
 "nbformat_minor": 2
}
