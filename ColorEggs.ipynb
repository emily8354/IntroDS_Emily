{
 "cells": [
  {
   "cell_type": "code",
   "execution_count": null,
   "metadata": {},
   "outputs": [],
   "source": [
    "import pandas as pd\n",
    "egg_color = ['RED','BLUE','GREEN','YELLOW','PURPLE','PEACH','ORANGE','LIME','BROWN','TURQUOISE','PINK','TEAL']\n",
    "cols = ['red','blue','green','yellow']\n",
    "colors = [[20,0,0,0],[0,20,0,0],[0,0,20,0],[0,0,0,20],[5,1,0,0],[1,0,0,3],[3,0,0,5],[0,0,1,3],[3,0,3,4],\n",
    "         [0,4,1,0],[14,6,0,0],[0,5,15,0]]\n",
    "chart = pd.DataFrame(data = colors,index = egg_color,columns = cols)\n",
    "print(chart)"
   ]
  },
  {
   "cell_type": "code",
   "execution_count": null,
   "metadata": {},
   "outputs": [],
   "source": [
    "count = 0\n",
    "while(count < 10):\n",
    "    inp = input('What color egg are you thinking of?')\n",
    "    inp = inp.upper()\n",
    "    if inp == 'WHITE':\n",
    "        not_white = False\n",
    "        print(\"Why in the world do you just want a white egg? Try again.\")\n",
    "        break\n",
    "    if inp == 'BLACK':\n",
    "        not_black = False\n",
    "        print(\"Why black, just why. Try again.\")\n",
    "        break\n",
    "    if inp in chart.index:\n",
    "        print('The recipe for your '+inp+' egg is:')\n",
    "        color = chart.loc[inp,:]\n",
    "        print(str(color['red'])+\" drop(s) of RED\")\n",
    "        print(str(color['blue'])+\" drop(s) of BLUE\")\n",
    "        print(str(color['green'])+\" drop(s) of GREEN\")\n",
    "        print(str(color['yellow'])+\" drop(s) of YELLOW\")\n",
    "        count=count+1\n",
    "    elif inp not in chart.index:\n",
    "        print('We are sorry, the recipe for this egg color does not exist yet. Please try us another time')\n",
    "        break\n",
    "    print('recipe count: '+str(count))"
   ]
  },
  {
   "cell_type": "code",
   "execution_count": null,
   "metadata": {},
   "outputs": [],
   "source": []
  }
 ],
 "metadata": {
  "kernelspec": {
   "display_name": "Python 3",
   "language": "python",
   "name": "python3"
  },
  "language_info": {
   "codemirror_mode": {
    "name": "ipython",
    "version": 3
   },
   "file_extension": ".py",
   "mimetype": "text/x-python",
   "name": "python",
   "nbconvert_exporter": "python",
   "pygments_lexer": "ipython3",
   "version": "3.7.4"
  }
 },
 "nbformat": 4,
 "nbformat_minor": 2
}
