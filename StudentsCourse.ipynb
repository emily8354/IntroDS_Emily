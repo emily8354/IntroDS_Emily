{
 "cells": [
  {
   "cell_type": "code",
   "execution_count": 1,
   "metadata": {},
   "outputs": [],
   "source": [
    "class Students():\n",
    "    #numStudentsInClass = 0\n",
    "    def __init__(self,Fname,Lname,gpa,age):\n",
    "        self.Fname = Fname\n",
    "        self.Lname = Lname\n",
    "        self.gpa = gpa\n",
    "        self.age = age\n",
    "        #Students.numStudentsInClass+=1\n",
    "        \n",
    "    def print_student(self):\n",
    "        print(\"{} {}\".format(self.Fname,self.Lname))\n",
    "    \n",
    "    def getStudent(self):\n",
    "        return self.Fname+\" \"+self.Lname+\" gpa: \"+str(self.gpa)+\" age: \"+str(self.age)\n",
    "\n",
    "class Course():\n",
    "    def __init__(self,courseName,students):\n",
    "        self.courseName = courseName\n",
    "        self.students = students\n",
    "        \n",
    "    def getCourseName(self):\n",
    "        return self.courseName\n",
    "    \n",
    "    def addStudent(self,newStudent):\n",
    "        self.students.append(newStudent.getStudent())\n",
    "        \n",
    "    def dropStudent(self,newStudent):\n",
    "        self.students.remove(newStudent.getStudent())\n",
    "        \n",
    "    def getStudents(self):\n",
    "        return self.students\n",
    "    "
   ]
  },
  {
   "cell_type": "code",
   "execution_count": 2,
   "metadata": {},
   "outputs": [
    {
     "name": "stdout",
     "output_type": "stream",
     "text": [
      "Emily Lo\n",
      "Taiwo Togun\n"
     ]
    }
   ],
   "source": [
    "student1 = Students('Emily','Lo',4.0,15)\n",
    "student2 = Students('Taiwo','Togun',1.7,22)\n",
    "student1.print_student()\n",
    "student2.print_student()"
   ]
  },
  {
   "cell_type": "code",
   "execution_count": 3,
   "metadata": {},
   "outputs": [
    {
     "name": "stdout",
     "output_type": "stream",
     "text": [
      "['Emily Lo gpa: 4.0 age: 15', 'Taiwo Togun gpa: 1.7 age: 22', 'Joe Smith gpa: 3.8 age: 17']\n",
      "Math\n",
      "['Taiwo Togun gpa: 1.7 age: 22', 'Joe Smith gpa: 3.8 age: 17', 'Alice Wonder gpa: 2.5 age: 18']\n"
     ]
    }
   ],
   "source": [
    "students = list()\n",
    "student3 = Students('Joe','Smith',3.8,17)\n",
    "students.append(student1.getStudent())\n",
    "students.append(student2.getStudent())\n",
    "students.append(student3.getStudent())\n",
    "print(students)\n",
    "course1 = Course('Math', students)\n",
    "print(course1.getCourseName())\n",
    "course1.addStudent(Students('Alice','Wonder',2.5,18))\n",
    "course1.dropStudent(Students('Emily','Lo',4.0,15))\n",
    "print(course1.getStudents())"
   ]
  },
  {
   "cell_type": "code",
   "execution_count": null,
   "metadata": {},
   "outputs": [],
   "source": []
  }
 ],
 "metadata": {
  "kernelspec": {
   "display_name": "Python 3",
   "language": "python",
   "name": "python3"
  },
  "language_info": {
   "codemirror_mode": {
    "name": "ipython",
    "version": 3
   },
   "file_extension": ".py",
   "mimetype": "text/x-python",
   "name": "python",
   "nbconvert_exporter": "python",
   "pygments_lexer": "ipython3",
   "version": "3.7.4"
  }
 },
 "nbformat": 4,
 "nbformat_minor": 2
}
