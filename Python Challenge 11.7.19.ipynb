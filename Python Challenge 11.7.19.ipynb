{
 "cells": [
  {
   "cell_type": "markdown",
   "metadata": {},
   "source": [
    "### Given a list of N numbers, produce a new list that only contains the number if it is even and comes from an even indices in the original list. "
   ]
  },
  {
   "cell_type": "code",
   "execution_count": 6,
   "metadata": {},
   "outputs": [
    {
     "name": "stdout",
     "output_type": "stream",
     "text": [
      "[10, 18, 78]\n"
     ]
    }
   ],
   "source": [
    "lst = [1,3,5,8,10,13,18,36,78]\n",
    "new_lst = [lst[i] for i in range (len(lst)) if lst[i]%2 == 0 and i%2 == 0]\n",
    "new_lst2 = [x for i,x in enumerate(lst) if i%2 == 0 and x%2 == 0]\n",
    "print(new_lst2)"
   ]
  },
  {
   "cell_type": "markdown",
   "metadata": {},
   "source": [
    "### Write a function that prints the least integer that is not present in a given list and cannot be represented by the summation of the sub-elements of the list"
   ]
  },
  {
   "cell_type": "code",
   "execution_count": 9,
   "metadata": {},
   "outputs": [],
   "source": [
    "def smallest_integer(lst):\n",
    "    sort_lst = sorted(lst)\n",
    "    smallest = 1\n",
    "    for i in range (len(sort_lst)):\n",
    "        if sort_lst[i] <= smallest:\n",
    "            smallest += sort_lst[i]\n",
    "    return smallest"
   ]
  },
  {
   "cell_type": "code",
   "execution_count": 10,
   "metadata": {},
   "outputs": [
    {
     "name": "stdout",
     "output_type": "stream",
     "text": [
      "4\n"
     ]
    }
   ],
   "source": [
    "lst = [1,2,5,7]\n",
    "print(smallest_integer(lst))"
   ]
  },
  {
   "cell_type": "markdown",
   "metadata": {},
   "source": [
    "### with itertools combinations"
   ]
  },
  {
   "cell_type": "code",
   "execution_count": 85,
   "metadata": {},
   "outputs": [],
   "source": [
    "# adding the numbers\n",
    "def summ(t):\n",
    "    s = 0\n",
    "    for i in t:\n",
    "        s += i\n",
    "    return s"
   ]
  },
  {
   "cell_type": "code",
   "execution_count": null,
   "metadata": {},
   "outputs": [],
   "source": []
  },
  {
   "cell_type": "code",
   "execution_count": 86,
   "metadata": {},
   "outputs": [],
   "source": [
    "from itertools import combinations\n",
    "def smallest_integer(lst):\n",
    "    combined = list()\n",
    "    for i in range (1,len(lst)+1):\n",
    "        combined.append(list(combinations(lst,i)))\n",
    "    sum_lst = list()\n",
    "    for i in range (len(combined)):\n",
    "        for j in range (len(combined[i])):\n",
    "            sum_lst.append(summ(combined[i][j]))\n",
    "    sort = sorted(sum_lst)\n",
    "    smallest = 1\n",
    "    for i in range (len(sort)):\n",
    "        if smallest not in sort:\n",
    "            return smallest\n",
    "        else:\n",
    "            smallest+=1"
   ]
  },
  {
   "cell_type": "code",
   "execution_count": 87,
   "metadata": {},
   "outputs": [
    {
     "name": "stdout",
     "output_type": "stream",
     "text": [
      "18\n"
     ]
    }
   ],
   "source": [
    "lst = [1,2,2,5,7]\n",
    "print(smallest_integer(lst))"
   ]
  },
  {
   "cell_type": "code",
   "execution_count": null,
   "metadata": {},
   "outputs": [],
   "source": []
  }
 ],
 "metadata": {
  "kernelspec": {
   "display_name": "Python 3",
   "language": "python",
   "name": "python3"
  },
  "language_info": {
   "codemirror_mode": {
    "name": "ipython",
    "version": 3
   },
   "file_extension": ".py",
   "mimetype": "text/x-python",
   "name": "python",
   "nbconvert_exporter": "python",
   "pygments_lexer": "ipython3",
   "version": "3.7.3"
  }
 },
 "nbformat": 4,
 "nbformat_minor": 2
}
