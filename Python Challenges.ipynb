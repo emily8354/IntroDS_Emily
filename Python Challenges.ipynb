{
 "cells": [
  {
   "cell_type": "markdown",
   "metadata": {},
   "source": [
    "### A. match_ends\n",
    "\n",
    "- Given a list of strings, return the count of the number of strings where the string length is 2 or more and the first and last chars of the string are the same."
   ]
  },
  {
   "cell_type": "code",
   "execution_count": 14,
   "metadata": {},
   "outputs": [],
   "source": [
    "def stringCompatible(list):\n",
    "    count = 0\n",
    "    for x in list:\n",
    "        if len(x) > 2 and x[:1] == x[-1:]:\n",
    "            count+=1\n",
    "    return count"
   ]
  },
  {
   "cell_type": "code",
   "execution_count": 15,
   "metadata": {},
   "outputs": [
    {
     "name": "stdout",
     "output_type": "stream",
     "text": [
      "3\n"
     ]
    }
   ],
   "source": [
    "list = [\"racecar\", \"did\", \"a\", \"water\", \"bub\"]\n",
    "count = stringCompatible(list)\n",
    "print(count)"
   ]
  },
  {
   "cell_type": "markdown",
   "metadata": {},
   "source": [
    "### B. front_x\n",
    "- Given a list of strings, return a list with the strings in sorted order, except group all the strings that begin with 'x' first."
   ]
  },
  {
   "cell_type": "code",
   "execution_count": null,
   "metadata": {},
   "outputs": [],
   "source": [
    "def front_x(list):\n",
    "    not_x_list = []\n",
    "    x_list = []\n",
    "    for i in list:\n",
    "        if i.startsWith(x):\n",
    "            x_list.append(i)\n",
    "        else:\n",
    "            not_x_list.append(i)\n",
    "    combined_list = []\n",
    "    not_x_list.sort()\n",
    "    "
   ]
  }
 ],
 "metadata": {
  "kernelspec": {
   "display_name": "Python 3",
   "language": "python",
   "name": "python3"
  },
  "language_info": {
   "codemirror_mode": {
    "name": "ipython",
    "version": 3
   },
   "file_extension": ".py",
   "mimetype": "text/x-python",
   "name": "python",
   "nbconvert_exporter": "python",
   "pygments_lexer": "ipython3",
   "version": "3.7.3"
  }
 },
 "nbformat": 4,
 "nbformat_minor": 2
}
