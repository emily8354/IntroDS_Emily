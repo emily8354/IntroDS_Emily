{
 "cells": [
  {
   "cell_type": "code",
   "execution_count": 5,
   "metadata": {},
   "outputs": [
    {
     "name": "stdout",
     "output_type": "stream",
     "text": [
      "How many words do you want to print?100\n",
      "romeno thats not to quiver all dripping wet cross and as they have happened she hardly hear it is it was growing on tiptoe and the moment down here in such a very white kid gloves and furrows the last and lonely on the panther were or twice half hoping that she what the dance you know what things its all day said a very wide on one about this time she began ordering people hottempered she could not stand on one side of half of all their slates and they were taken into the king. nearly as she spread "
     ]
    }
   ],
   "source": [
    "import random\n",
    "import string\n",
    "inp = open('alice.txt')\n",
    "file = inp.read()\n",
    "file = file.lower()\n",
    "words = file.split()\n",
    "newLst = list()\n",
    "for word in words:\n",
    "    if '.' in word: \n",
    "        newLst.append(word)\n",
    "        continue\n",
    "    else:\n",
    "        word = word.translate(word.maketrans('','',string.punctuation))\n",
    "        newLst.append(word)\n",
    "mimic = dict()\n",
    "for i in range(len(newLst)-1):\n",
    "    lst = list()\n",
    "    if newLst[i] not in mimic:\n",
    "        mimic[newLst[i]] = lst\n",
    "        lst.append(newLst[i+1])\n",
    "    else:\n",
    "        mimic[newLst[i]].append(newLst[i+1])\n",
    "count = input('How many words do you want to print?')\n",
    "lst = list()\n",
    "key = random.choice(list(mimic.keys()))\n",
    "lst.append(key)\n",
    "for i in range (int(count)-1):\n",
    "    randoms = random.choice(mimic[key])\n",
    "    lst.append(randoms)\n",
    "    key = randoms\n",
    "for word in lst:\n",
    "    print(word, end=' ')"
   ]
  },
  {
   "cell_type": "code",
   "execution_count": null,
   "metadata": {},
   "outputs": [],
   "source": []
  },
  {
   "cell_type": "code",
   "execution_count": null,
   "metadata": {},
   "outputs": [],
   "source": []
  }
 ],
 "metadata": {
  "kernelspec": {
   "display_name": "Python 3",
   "language": "python",
   "name": "python3"
  },
  "language_info": {
   "codemirror_mode": {
    "name": "ipython",
    "version": 3
   },
   "file_extension": ".py",
   "mimetype": "text/x-python",
   "name": "python",
   "nbconvert_exporter": "python",
   "pygments_lexer": "ipython3",
   "version": "3.7.3"
  }
 },
 "nbformat": 4,
 "nbformat_minor": 2
}
