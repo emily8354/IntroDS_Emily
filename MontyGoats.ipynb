{
 "cells": [
  {
   "cell_type": "code",
   "execution_count": 1,
   "metadata": {},
   "outputs": [],
   "source": [
    "# original Monty Hall problem with 2 goats\n",
    "import random\n",
    "def play():\n",
    "    car = int(random.random() * 3)   \n",
    "    myguess = int(random.random() * 3)    \n",
    "    return(myguess == car)"
   ]
  },
  {
   "cell_type": "code",
   "execution_count": 2,
   "metadata": {},
   "outputs": [],
   "source": [
    "def new_play():\n",
    "    n_goats = int(random.random() * 4)\n",
    "    if n_goats == 0:\n",
    "        return 'D' # if there are 0 goats, it is a do-over\n",
    "    elif n_goats == 1:\n",
    "        return 'G' # if there is 1 goat, then it is a guarantee win because Monty shows you the door\n",
    "    elif n_goats == 3:\n",
    "        return 'N' # if there are 3 goats, then you lose no matter what\n",
    "    elif n_goats == 2: # if there are 2 goats, then it is like the original problem\n",
    "        if play():\n",
    "            return 'stay'\n",
    "        else:\n",
    "            return 'switch'"
   ]
  },
  {
   "cell_type": "code",
   "execution_count": 3,
   "metadata": {},
   "outputs": [
    {
     "name": "stdout",
     "output_type": "stream",
     "text": [
      "ntrials = 1000 , stay wins = 74 , switch wins = 177 , do over = 253 , guarantee wins = 242 , no wins = 254\n"
     ]
    }
   ],
   "source": [
    "ntrials = 1000\n",
    "staywins = 0\n",
    "switchwins = 0\n",
    "do_over = 0\n",
    "guarwin = 0\n",
    "nowin = 0\n",
    "games = 0\n",
    "for i in range(ntrials):\n",
    "    x = new_play()\n",
    "    if x == 'D':\n",
    "        do_over+=1\n",
    "    elif x == 'G':\n",
    "        guarwin+=1\n",
    "    elif x == 'N':\n",
    "        nowin+=1\n",
    "    elif x == 'stay':\n",
    "        staywins += 1\n",
    "    elif x == 'switch':\n",
    "        switchwins += 1\n",
    "print('ntrials =', ntrials, ', stay wins =', staywins, ', switch wins =', switchwins, \n",
    "     ', do over =', do_over, ', guarantee wins =', guarwin, ', no wins =', nowin)"
   ]
  },
  {
   "cell_type": "code",
   "execution_count": null,
   "metadata": {},
   "outputs": [],
   "source": []
  }
 ],
 "metadata": {
  "kernelspec": {
   "display_name": "Python 3",
   "language": "python",
   "name": "python3"
  },
  "language_info": {
   "codemirror_mode": {
    "name": "ipython",
    "version": 3
   },
   "file_extension": ".py",
   "mimetype": "text/x-python",
   "name": "python",
   "nbconvert_exporter": "python",
   "pygments_lexer": "ipython3",
   "version": "3.7.4"
  }
 },
 "nbformat": 4,
 "nbformat_minor": 2
}
