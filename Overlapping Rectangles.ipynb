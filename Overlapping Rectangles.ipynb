{
 "cells": [
  {
   "cell_type": "code",
   "execution_count": null,
   "metadata": {},
   "outputs": [],
   "source": [
    "# Given the height, width, and center coordinate of two rectangles implement two methods\n",
    "# one checks if the two rectangles are nested\n",
    "# the other checks if they overlap"
   ]
  },
  {
   "cell_type": "code",
   "execution_count": 3,
   "metadata": {},
   "outputs": [
    {
     "name": "stdout",
     "output_type": "stream",
     "text": [
      "What is the height of the first rectangle? 4\n",
      "What is the width of the first rectangle? 4\n",
      "What is the x variable of the first rectangle? 2\n",
      "What is the y variable of the first rectangle? 2\n",
      "What is the height of the second rectangle? 1\n",
      "What is the width of the second rectangle? 1\n",
      "What is the x variable of the second rectangle? 2\n",
      "What is the y variable of the second rectangle? 2\n",
      "The second rectangle is nested inside of the first rectangle\n"
     ]
    }
   ],
   "source": [
    "height1 = (int)(input(\"What is the height of the first rectangle? \"))\n",
    "width1 = (int)(input(\"What is the width of the first rectangle? \"))\n",
    "x1 = (int)(input(\"What is the x variable of the first rectangle? \"))\n",
    "y1 = (int)(input(\"What is the y variable of the first rectangle? \"))\n",
    "\n",
    "height2 = (int)(input(\"What is the height of the second rectangle? \"))\n",
    "width2 = (int)(input(\"What is the width of the second rectangle? \"))\n",
    "x2 = (int)(input(\"What is the x variable of the second rectangle? \"))\n",
    "y2 = (int)(input(\"What is the y variable of the second rectangle? \"))\n",
    "\n",
    "height1_coor = list()\n",
    "height1_coor.append(y1-(height1/2))\n",
    "height1_coor.append(y1+(height1/2))\n",
    "\n",
    "width1_coor = list()\n",
    "width1_coor.append(x1-(width1/2))\n",
    "width1_coor.append(x1+(width1/2))\n",
    "\n",
    "height2_coor = list()\n",
    "height2_coor.append(y2-(height2/2))\n",
    "height2_coor.append(y2+(height2/2))\n",
    "\n",
    "width2_coor = list()\n",
    "width2_coor.append(x2-(width2/2))\n",
    "width2_coor.append(x2+(width2/2))\n",
    "\n",
    "if x2 > width1_coor[0] and x2 < width1_coor[1] and y2 > height1_coor[0] and y2 < height1_coor[1]:\n",
    "    if height2_coor[0] > height1_coor[0] and height2_coor[1] < height1_coor[1] and width2_coor[0] > width1_coor[0] and width2_coor[1] < width1_coor[1]:\n",
    "        print(\"The second rectangle is nested inside of the first rectangle\")"
   ]
  },
  {
   "cell_type": "code",
   "execution_count": null,
   "metadata": {},
   "outputs": [],
   "source": []
  }
 ],
 "metadata": {
  "kernelspec": {
   "display_name": "Python 3",
   "language": "python",
   "name": "python3"
  },
  "language_info": {
   "codemirror_mode": {
    "name": "ipython",
    "version": 3
   },
   "file_extension": ".py",
   "mimetype": "text/x-python",
   "name": "python",
   "nbconvert_exporter": "python",
   "pygments_lexer": "ipython3",
   "version": "3.7.4"
  }
 },
 "nbformat": 4,
 "nbformat_minor": 2
}
