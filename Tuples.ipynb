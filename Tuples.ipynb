{
 "cells": [
  {
   "cell_type": "markdown",
   "metadata": {},
   "source": [
    "### 10.1 Tuples are immutable"
   ]
  },
  {
   "cell_type": "code",
   "execution_count": null,
   "metadata": {},
   "outputs": [],
   "source": [
    "t = tuple('lupins')\n",
    "print(t)\n",
    "t1 = ('a','b','c','d','e')\n",
    "t1 = ('A',)+t1[1:]\n",
    "print(t1)"
   ]
  },
  {
   "cell_type": "markdown",
   "metadata": {},
   "source": [
    "### 10.2 Comparing Tuples"
   ]
  },
  {
   "cell_type": "code",
   "execution_count": null,
   "metadata": {},
   "outputs": [],
   "source": [
    "txt = 'but soft what light in yonder window breaks'\n",
    "words = txt.split()\n",
    "t = list()\n",
    "for word in words:\n",
    "    t.append((len(word), word))\n",
    "t.sort(reverse=True)\n",
    "res = list()\n",
    "for length, word in t:\n",
    "    res.append(word)\n",
    "print(res)"
   ]
  },
  {
   "cell_type": "markdown",
   "metadata": {},
   "source": [
    "### 10.3 Tuple assignment"
   ]
  },
  {
   "cell_type": "code",
   "execution_count": null,
   "metadata": {},
   "outputs": [],
   "source": [
    "addr = 'monty@python.org'\n",
    "uname, domain = addr.split('@')\n",
    "print(uname)\n",
    "print(domain)"
   ]
  },
  {
   "cell_type": "markdown",
   "metadata": {},
   "source": [
    "### 10.4 Dictionaries and tuples"
   ]
  },
  {
   "cell_type": "code",
   "execution_count": null,
   "metadata": {},
   "outputs": [],
   "source": [
    "d = {'a':10, 'b':1, 'c':22}\n",
    "t = list(d.items())\n",
    "print(t)"
   ]
  },
  {
   "cell_type": "markdown",
   "metadata": {},
   "source": [
    "### 10.5 Multiple Assignment with Dictionaries"
   ]
  },
  {
   "cell_type": "code",
   "execution_count": null,
   "metadata": {},
   "outputs": [],
   "source": [
    "t.sort()\n",
    "for key, val in list(d.items()):\n",
    "    print(val,key)"
   ]
  },
  {
   "cell_type": "markdown",
   "metadata": {},
   "source": [
    "### 10.6 The most common words"
   ]
  },
  {
   "cell_type": "code",
   "execution_count": null,
   "metadata": {},
   "outputs": [],
   "source": [
    "import string\n",
    "fhand = open('romeo.txt')\n",
    "counts = dict()\n",
    "for line in fhand:\n",
    "    line = line.translate(str.maketrans('','',string.punctuation))\n",
    "    line = line.lower()\n",
    "    words = line.split()\n",
    "    for word in words:\n",
    "        if word not in counts:\n",
    "            counts[word] = 1\n",
    "        else:\n",
    "            counts[word] += 1\n",
    "lst = list()\n",
    "for key, val in list(counts.items()):\n",
    "    lst.append((val,key))\n",
    "lst.sort(reverse=True)\n",
    "for key, val in lst[:10]:\n",
    "    print(key,val)"
   ]
  },
  {
   "cell_type": "markdown",
   "metadata": {},
   "source": [
    "### Exercise 1"
   ]
  },
  {
   "cell_type": "code",
   "execution_count": null,
   "metadata": {},
   "outputs": [],
   "source": [
    "inp = input('Enter the file name: ')\n",
    "file = open(inp)\n",
    "mail = dict()\n",
    "for line in file:\n",
    "    if line.startswith('From:'):\n",
    "        words = line.split()\n",
    "        if len(words) >= 2:\n",
    "            if words[1] not in mail:\n",
    "                mail[words[1]] = 1\n",
    "            else:\n",
    "                mail[words[1]]+=1\n",
    "lst = list()\n",
    "for count, email in list(mail.items()):\n",
    "    lst.append((count, email))\n",
    "lst.sort(reverse=True)\n",
    "maxCount = 0\n",
    "maxEmail = ''\n",
    "for lst2 in lst:\n",
    "    if int(lst2[1]) > maxCount:\n",
    "        maxCount = int(lst2[1])\n",
    "        maxEmail = lst2[0]\n",
    "print(maxEmail, maxCount)"
   ]
  },
  {
   "cell_type": "markdown",
   "metadata": {},
   "source": [
    "### Exercise 2"
   ]
  },
  {
   "cell_type": "code",
   "execution_count": null,
   "metadata": {},
   "outputs": [],
   "source": [
    "inp = input('Enter the file name: ')\n",
    "file = open(inp)\n",
    "hours = dict()\n",
    "for line in file:\n",
    "    if line.startswith('From'):\n",
    "        words = line.split()\n",
    "        if len(words) < 5: continue\n",
    "        else:\n",
    "            time = words[5].split(':')\n",
    "            if time[0] not in hours:\n",
    "                hours[time[0]] = 1\n",
    "            else:\n",
    "                hours[time[0]]+=1\n",
    "lst = list()\n",
    "for key, val in list((hours.items())):\n",
    "    lst.append((key,val))\n",
    "lst.sort()\n",
    "for key,val in lst:\n",
    "    print(key,val)"
   ]
  },
  {
   "cell_type": "markdown",
   "metadata": {},
   "source": [
    "### Exercise 3"
   ]
  },
  {
   "cell_type": "code",
   "execution_count": 4,
   "metadata": {},
   "outputs": [
    {
     "name": "stdout",
     "output_type": "stream",
     "text": [
      "Enter the file name: mbox-short.txt\n",
      "e 5436\n",
      "a 5223\n",
      "i 4494\n",
      "o 4174\n",
      "r 4064\n",
      "t 4050\n",
      "s 3738\n",
      "u 3123\n",
      "c 3088\n",
      "n 2575\n",
      "p 2497\n",
      "m 2436\n",
      "d 2004\n",
      "l 1832\n",
      "h 1392\n",
      "f 1257\n",
      "k 1167\n",
      "b 1134\n",
      "g 1027\n",
      "v 997\n",
      "j 959\n",
      "y 643\n",
      "w 586\n",
      "x 482\n",
      "z 78\n",
      "q 57\n"
     ]
    }
   ],
   "source": [
    "import string\n",
    "inp = input('Enter the file name: ')\n",
    "file = open(inp)\n",
    "letters = dict()\n",
    "for line in file:\n",
    "    line = line.translate(str.maketrans('','', string.punctuation))\n",
    "    line = line.translate(str.maketrans('','', string.digits))\n",
    "    line = line.lower()\n",
    "    words = line.split()\n",
    "    for i in words:\n",
    "        word = list(i)\n",
    "        for letter in word:\n",
    "            if letter not in letters:\n",
    "                letters[letter] = 1\n",
    "            else:\n",
    "                letters[letter] += 1\n",
    "lst = list()\n",
    "for letter, count in letters.items():\n",
    "    lst.append((count, letter))\n",
    "lst.sort(reverse=True)\n",
    "for count, letter in lst:\n",
    "    print(letter, count)"
   ]
  },
  {
   "cell_type": "code",
   "execution_count": null,
   "metadata": {},
   "outputs": [],
   "source": []
  },
  {
   "cell_type": "code",
   "execution_count": null,
   "metadata": {},
   "outputs": [],
   "source": []
  }
 ],
 "metadata": {
  "kernelspec": {
   "display_name": "Python 3",
   "language": "python",
   "name": "python3"
  },
  "language_info": {
   "codemirror_mode": {
    "name": "ipython",
    "version": 3
   },
   "file_extension": ".py",
   "mimetype": "text/x-python",
   "name": "python",
   "nbconvert_exporter": "python",
   "pygments_lexer": "ipython3",
   "version": "3.7.3"
  }
 },
 "nbformat": 4,
 "nbformat_minor": 2
}
