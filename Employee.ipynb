{
 "cells": [
  {
   "cell_type": "code",
   "execution_count": 29,
   "metadata": {},
   "outputs": [],
   "source": [
    "class Employee():\n",
    "    raise_amount = 1.04\n",
    "    def __init__(self,first_name,last_name,pay):\n",
    "        self.first_name = first_name\n",
    "        self.last_name = last_name\n",
    "        self.pay = pay\n",
    "        \n",
    "    def print_full_name(self):\n",
    "        return '{} {}'.format(self.first_name, self.last_name)\n",
    "    \n",
    "    def apply_raise(self):\n",
    "        self.pay*=Employee.raise_amount\n",
    "    \n",
    "    def get_employee(self):\n",
    "        return self.first_name+\" \"+self.last_name+\" pay: \"+str(self.pay)"
   ]
  },
  {
   "cell_type": "code",
   "execution_count": null,
   "metadata": {},
   "outputs": [],
   "source": []
  },
  {
   "cell_type": "code",
   "execution_count": 30,
   "metadata": {},
   "outputs": [],
   "source": [
    "class Developer(Employee):\n",
    "    raise_amount = 1.1\n",
    "    def __init__(self,first_name,last_name,pay,program_lang):\n",
    "        super().__init__(first_name,last_name,pay)\n",
    "        self.program_lang = program_lang\n",
    "    def get_developer(self):\n",
    "        return self.first_name+\" \"+self.last_name+\" pay: \"+str(self.pay)+\" programming language: \"+self.program_lang"
   ]
  },
  {
   "cell_type": "code",
   "execution_count": 31,
   "metadata": {},
   "outputs": [],
   "source": [
    "class Manager(Employee):\n",
    "    def __init__(self,first_name,last_name,pay,employees=None):\n",
    "        super().__init__(first_name,last_name,pay)\n",
    "        if employees is None:\n",
    "            self.employees = list()\n",
    "        else:\n",
    "            self.employees = employees\n",
    "    def hire(self,new):\n",
    "        if isinstance(new, Developer):\n",
    "            self.employees.append(new.get_developer())\n",
    "        else:\n",
    "            self.employees.append(new.get_employee())\n",
    "    def fire(self,new):\n",
    "        if isinstance(new, Developer) and new.get_developer() in employees:\n",
    "            self.employees.remove(new.get_employee())\n",
    "        elif new.get_employee() in employees:\n",
    "            self.employees.remove(new.get_employee())\n",
    "    def get_employees(self):\n",
    "        return self.employees"
   ]
  },
  {
   "cell_type": "code",
   "execution_count": 32,
   "metadata": {},
   "outputs": [
    {
     "name": "stdout",
     "output_type": "stream",
     "text": [
      "['Kiersten Brennan pay: 15000 programming language: Python', 'Bob Ross pay: 10000']\n",
      "['Kiersten Brennan pay: 15000 programming language: Python', 'Bob Ross pay: 10000', 'Bill Nye pay: 15000']\n",
      "['Kiersten Brennan pay: 15000 programming language: Python', 'Bill Nye pay: 15000']\n"
     ]
    }
   ],
   "source": [
    "employee1 = Developer('Kiersten','Brennan',15000,'Python')\n",
    "employees = list()\n",
    "employees.append(employee1.get_developer())\n",
    "employee2 = Manager('Emily','Lo',30000,employees)\n",
    "employee2.hire(Employee('Bob','Ross',10000))\n",
    "print(employee2.get_employees())\n",
    "employee2.hire(Employee('Bill','Nye',15000))\n",
    "print(employee2.get_employees())\n",
    "employee2.fire(Employee('Bob','Ross',10000))\n",
    "print(employee2.get_employees())"
   ]
  },
  {
   "cell_type": "code",
   "execution_count": null,
   "metadata": {},
   "outputs": [],
   "source": []
  }
 ],
 "metadata": {
  "kernelspec": {
   "display_name": "Python 3",
   "language": "python",
   "name": "python3"
  },
  "language_info": {
   "codemirror_mode": {
    "name": "ipython",
    "version": 3
   },
   "file_extension": ".py",
   "mimetype": "text/x-python",
   "name": "python",
   "nbconvert_exporter": "python",
   "pygments_lexer": "ipython3",
   "version": "3.7.4"
  }
 },
 "nbformat": 4,
 "nbformat_minor": 2
}
