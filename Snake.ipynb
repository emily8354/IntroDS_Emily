{
 "cells": [
  {
   "cell_type": "code",
   "execution_count": 1,
   "metadata": {},
   "outputs": [],
   "source": [
    "import time\n",
    "import random\n",
    "import numpy as np\n",
    "import matplotlib.pyplot as plt\n",
    "from IPython.display import clear_output"
   ]
  },
  {
   "cell_type": "code",
   "execution_count": 2,
   "metadata": {},
   "outputs": [],
   "source": [
    "def drawitall(myarray):\n",
    "    x = list()\n",
    "    y = list()\n",
    "\n",
    "    height = myarray.shape[0]\n",
    "    width = myarray.shape[1]\n",
    "\n",
    "    for h in range(height):\n",
    "        for w in range(width):\n",
    "            if (myarray[h,w] > 0):\n",
    "                x.append(w)\n",
    "                y.append(height-h)\n",
    "    \n",
    "    plt.plot(x,y,'ro')\n",
    "    plt.axis([-1, width+1, -1, height+1]) \n",
    "    clear_output(True)   \n",
    "    plt.show()"
   ]
  },
  {
   "cell_type": "code",
   "execution_count": 3,
   "metadata": {},
   "outputs": [],
   "source": [
    "plt.rcParams['figure.figsize'] = [5,5]\n",
    "grid = np.zeros( (30, 30), dtype=int)\n",
    "snake = [[15,7],[15,8],[15,9],[15,10],[15,11]]\n",
    "sn_head = [15,7]\n",
    "facing = 'W'"
   ]
  },
  {
   "cell_type": "code",
   "execution_count": 4,
   "metadata": {},
   "outputs": [],
   "source": [
    "def update(grid,snake):\n",
    "    for i in range (len(snake)):\n",
    "        grid[snake[i][0],snake[i][1]] = 1\n",
    "    drawitall(grid)\n",
    "    time.sleep(0.5)"
   ]
  },
  {
   "cell_type": "code",
   "execution_count": 5,
   "metadata": {},
   "outputs": [
    {
     "data": {
      "image/png": "[encoded data removed]",
      "text/plain": [
       "<Figure size 360x360 with 1 Axes>"
      ]
     },
     "metadata": {
      "needs_background": "light"
     },
     "output_type": "display_data"
    }
   ],
   "source": [
    "update(grid,snake)"
   ]
  },
  {
   "cell_type": "code",
   "execution_count": 6,
   "metadata": {},
   "outputs": [],
   "source": [
    "def adjust(grid,snake,sn_head):\n",
    "    snake.insert(0,[sn_head[0],sn_head[1]])\n",
    "    grid[snake[len(snake)-1]] = 0\n",
    "    snake.pop(len(snake)-1)"
   ]
  },
  {
   "cell_type": "code",
   "execution_count": 7,
   "metadata": {},
   "outputs": [],
   "source": [
    "def vertical(grid,snake,sn_head,facing):\n",
    "    if facing == 'N':\n",
    "        sn_head[0] = len(grid)-1\n",
    "    elif facing == 'S':\n",
    "        sn_head[0] = 0\n",
    "    for i in range (len(snake)):\n",
    "        adjust(grid,snake,sn_head)\n",
    "        update(grid,snake)\n",
    "        if facing == 'N':\n",
    "            sn_head[0] = sn_head[0]-1\n",
    "        elif facing == 'S':\n",
    "            sn_head[0] = sn_head[0]+1"
   ]
  },
  {
   "cell_type": "code",
   "execution_count": 8,
   "metadata": {},
   "outputs": [],
   "source": [
    "def horizontal(grid,snake,sn_head,facing):\n",
    "    if facing == 'W':\n",
    "        sn_head[1] = len(grid)-1\n",
    "    elif facing == 'E':\n",
    "        sn_head[1] = 0\n",
    "    for i in range (len(snake)):\n",
    "        adjust(grid,snake,sn_head)\n",
    "        update(grid,snake)\n",
    "        if facing == 'W':\n",
    "            sn_head[1] = sn_head[1]-1\n",
    "        elif facing == 'E':\n",
    "            sn_head[1] = sn_head[1]+1"
   ]
  },
  {
   "cell_type": "code",
   "execution_count": 9,
   "metadata": {},
   "outputs": [],
   "source": [
    "def check_borders(grid,snake,sn_head,facing):\n",
    "    if (sn_head[1]+1) >= len(grid): \n",
    "        return 'F'\n",
    "    elif (sn_head[1]-1) < 0:\n",
    "        return 'F'\n",
    "    elif ((sn_head[0]+1) >= len(grid)) or ((sn_head[0]-1) < 0):\n",
    "        return 'V'\n",
    "    return 'T'"
   ]
  },
  {
   "cell_type": "code",
   "execution_count": 10,
   "metadata": {},
   "outputs": [],
   "source": [
    "def move_forward(grid,snake,facing):\n",
    "    boo = True\n",
    "    boo2 = True\n",
    "    if check_borders(grid,snake,sn_head,facing) == 'V':\n",
    "        boo = False\n",
    "        vertical(grid,snake,sn_head,facing)\n",
    "    elif check_borders(grid,snake,sn_head,facing) == 'F':\n",
    "        boo2 = False\n",
    "        horizontal(grid,snake,sn_head,facing)\n",
    "    if facing == 'E' and boo2:\n",
    "        sn_head[1] = sn_head[1]+1\n",
    "    elif facing == 'S' and boo:\n",
    "        sn_head[0] = sn_head[0]+1\n",
    "    elif facing == 'N' and boo:\n",
    "        sn_head[0] = sn_head[0]-1\n",
    "    elif facing == 'W' and boo2:\n",
    "        sn_head[1] = sn_head[1]-1\n",
    "    adjust(grid,snake,sn_head)\n",
    "    update(grid,snake)"
   ]
  },
  {
   "cell_type": "code",
   "execution_count": 11,
   "metadata": {},
   "outputs": [],
   "source": [
    "def r_or_l():\n",
    "    num = random.random()\n",
    "    direction = ''\n",
    "    if num < 0.5:\n",
    "        direction = 'R'\n",
    "    else:\n",
    "        direction = 'L'\n",
    "    return direction"
   ]
  },
  {
   "cell_type": "code",
   "execution_count": 12,
   "metadata": {},
   "outputs": [],
   "source": [
    "def direction():\n",
    "    direction = ''\n",
    "    if round(random.random(),1) < 0.5:\n",
    "        direction = 'F'\n",
    "    else:\n",
    "        direction = r_or_l()\n",
    "    return direction"
   ]
  },
  {
   "cell_type": "code",
   "execution_count": 13,
   "metadata": {},
   "outputs": [],
   "source": [
    "def turn_if_EW(grid,snake,sn_head,facing,direction):\n",
    "    if (facing == 'E' and direction == 'L') or (facing == 'W' and direction == 'R'):\n",
    "        facing = 'N'\n",
    "    elif (facing == 'E' and direction == 'R') or (facing == 'W' and direction == 'L'):\n",
    "        facing = 'S'\n",
    "    return facing"
   ]
  },
  {
   "cell_type": "code",
   "execution_count": 14,
   "metadata": {},
   "outputs": [],
   "source": [
    "def turn_if_NS(grid,snake,sn_head,facing,direction):\n",
    "    if (facing == 'N' and direction == 'R') or (facing == 'S' and direction == 'L'):\n",
    "        facing = 'E'\n",
    "    elif (facing == 'N' and direction == 'L') or (facing == 'S' and direction == 'R'):\n",
    "        facing = 'W'\n",
    "    return facing"
   ]
  },
  {
   "cell_type": "code",
   "execution_count": 15,
   "metadata": {},
   "outputs": [],
   "source": [
    "def EW_or_NS(facing):\n",
    "    boo = True\n",
    "    if (facing == 'E') or (facing == 'W'):\n",
    "        boo = True\n",
    "    elif (facing == 'N') or (facing == 'S'):\n",
    "        boo = False\n",
    "    return boo"
   ]
  },
  {
   "cell_type": "code",
   "execution_count": 16,
   "metadata": {},
   "outputs": [],
   "source": [
    "def turn(grid,snake,sn_head,facing,direction):\n",
    "    if EW_or_NS(facing) and (check_borders(grid,snake,sn_head,facing) == 'T'):\n",
    "        facing = turn_if_EW(grid,snake,sn_head,facing,direction)\n",
    "    elif (EW_or_NS(facing)) == False and (check_borders(grid,snake,sn_head,facing) == 'T'):\n",
    "        facing = turn_if_NS(grid,snake,sn_head,facing,direction)\n",
    "    for i in range (len(snake)):\n",
    "        move_forward(grid,snake,facing)\n",
    "    return facing"
   ]
  },
  {
   "cell_type": "code",
   "execution_count": 17,
   "metadata": {},
   "outputs": [
    {
     "data": {
      "image/png": "[encoded data removed]",
      "text/plain": [
       "<Figure size 360x360 with 1 Axes>"
      ]
     },
     "metadata": {
      "needs_background": "light"
     },
     "output_type": "display_data"
    },
    {
     "ename": "KeyboardInterrupt",
     "evalue": "",
     "output_type": "error",
     "traceback": [
      "\u001b[0;31m---------------------------------------------------------------------------\u001b[0m",
      "\u001b[0;31mKeyboardInterrupt\u001b[0m                         Traceback (most recent call last)",
      "\u001b[0;32m<ipython-input-17-14692f7d39c7>\u001b[0m in \u001b[0;36m<module>\u001b[0;34m\u001b[0m\n\u001b[1;32m      5\u001b[0m         \u001b[0mfacing\u001b[0m \u001b[0;34m=\u001b[0m \u001b[0mturn\u001b[0m\u001b[0;34m(\u001b[0m\u001b[0mgrid\u001b[0m\u001b[0;34m,\u001b[0m\u001b[0msnake\u001b[0m\u001b[0;34m,\u001b[0m\u001b[0msn_head\u001b[0m\u001b[0;34m,\u001b[0m\u001b[0mfacing\u001b[0m\u001b[0;34m,\u001b[0m\u001b[0;34m'R'\u001b[0m\u001b[0;34m)\u001b[0m\u001b[0;34m\u001b[0m\u001b[0;34m\u001b[0m\u001b[0m\n\u001b[1;32m      6\u001b[0m     \u001b[0;32melif\u001b[0m \u001b[0mdirection\u001b[0m\u001b[0;34m(\u001b[0m\u001b[0;34m)\u001b[0m \u001b[0;34m==\u001b[0m \u001b[0;34m'L'\u001b[0m\u001b[0;34m:\u001b[0m\u001b[0;34m\u001b[0m\u001b[0;34m\u001b[0m\u001b[0m\n\u001b[0;32m----> 7\u001b[0;31m         \u001b[0mfacing\u001b[0m \u001b[0;34m=\u001b[0m \u001b[0mturn\u001b[0m\u001b[0;34m(\u001b[0m\u001b[0mgrid\u001b[0m\u001b[0;34m,\u001b[0m\u001b[0msnake\u001b[0m\u001b[0;34m,\u001b[0m\u001b[0msn_head\u001b[0m\u001b[0;34m,\u001b[0m\u001b[0mfacing\u001b[0m\u001b[0;34m,\u001b[0m\u001b[0;34m'L'\u001b[0m\u001b[0;34m)\u001b[0m\u001b[0;34m\u001b[0m\u001b[0;34m\u001b[0m\u001b[0m\n\u001b[0m",
      "\u001b[0;32m<ipython-input-16-71b1c93ad94d>\u001b[0m in \u001b[0;36mturn\u001b[0;34m(grid, snake, sn_head, facing, direction)\u001b[0m\n\u001b[1;32m      5\u001b[0m         \u001b[0mfacing\u001b[0m \u001b[0;34m=\u001b[0m \u001b[0mturn_if_NS\u001b[0m\u001b[0;34m(\u001b[0m\u001b[0mgrid\u001b[0m\u001b[0;34m,\u001b[0m\u001b[0msnake\u001b[0m\u001b[0;34m,\u001b[0m\u001b[0msn_head\u001b[0m\u001b[0;34m,\u001b[0m\u001b[0mfacing\u001b[0m\u001b[0;34m,\u001b[0m\u001b[0mdirection\u001b[0m\u001b[0;34m)\u001b[0m\u001b[0;34m\u001b[0m\u001b[0;34m\u001b[0m\u001b[0m\n\u001b[1;32m      6\u001b[0m     \u001b[0;32mfor\u001b[0m \u001b[0mi\u001b[0m \u001b[0;32min\u001b[0m \u001b[0mrange\u001b[0m \u001b[0;34m(\u001b[0m\u001b[0mlen\u001b[0m\u001b[0;34m(\u001b[0m\u001b[0msnake\u001b[0m\u001b[0;34m)\u001b[0m\u001b[0;34m)\u001b[0m\u001b[0;34m:\u001b[0m\u001b[0;34m\u001b[0m\u001b[0;34m\u001b[0m\u001b[0m\n\u001b[0;32m----> 7\u001b[0;31m         \u001b[0mmove_forward\u001b[0m\u001b[0;34m(\u001b[0m\u001b[0mgrid\u001b[0m\u001b[0;34m,\u001b[0m\u001b[0msnake\u001b[0m\u001b[0;34m,\u001b[0m\u001b[0mfacing\u001b[0m\u001b[0;34m)\u001b[0m\u001b[0;34m\u001b[0m\u001b[0;34m\u001b[0m\u001b[0m\n\u001b[0m\u001b[1;32m      8\u001b[0m     \u001b[0;32mreturn\u001b[0m \u001b[0mfacing\u001b[0m\u001b[0;34m\u001b[0m\u001b[0;34m\u001b[0m\u001b[0m\n",
      "\u001b[0;32m<ipython-input-10-eaf901ed589e>\u001b[0m in \u001b[0;36mmove_forward\u001b[0;34m(grid, snake, facing)\u001b[0m\n\u001b[1;32m     17\u001b[0m         \u001b[0msn_head\u001b[0m\u001b[0;34m[\u001b[0m\u001b[0;36m1\u001b[0m\u001b[0;34m]\u001b[0m \u001b[0;34m=\u001b[0m \u001b[0msn_head\u001b[0m\u001b[0;34m[\u001b[0m\u001b[0;36m1\u001b[0m\u001b[0;34m]\u001b[0m\u001b[0;34m-\u001b[0m\u001b[0;36m1\u001b[0m\u001b[0;34m\u001b[0m\u001b[0;34m\u001b[0m\u001b[0m\n\u001b[1;32m     18\u001b[0m     \u001b[0madjust\u001b[0m\u001b[0;34m(\u001b[0m\u001b[0mgrid\u001b[0m\u001b[0;34m,\u001b[0m\u001b[0msnake\u001b[0m\u001b[0;34m,\u001b[0m\u001b[0msn_head\u001b[0m\u001b[0;34m)\u001b[0m\u001b[0;34m\u001b[0m\u001b[0;34m\u001b[0m\u001b[0m\n\u001b[0;32m---> 19\u001b[0;31m     \u001b[0mupdate\u001b[0m\u001b[0;34m(\u001b[0m\u001b[0mgrid\u001b[0m\u001b[0;34m,\u001b[0m\u001b[0msnake\u001b[0m\u001b[0;34m)\u001b[0m\u001b[0;34m\u001b[0m\u001b[0;34m\u001b[0m\u001b[0m\n\u001b[0m",
      "\u001b[0;32m<ipython-input-4-c34e40ec4da4>\u001b[0m in \u001b[0;36mupdate\u001b[0;34m(grid, snake)\u001b[0m\n\u001b[1;32m      3\u001b[0m         \u001b[0mgrid\u001b[0m\u001b[0;34m[\u001b[0m\u001b[0msnake\u001b[0m\u001b[0;34m[\u001b[0m\u001b[0mi\u001b[0m\u001b[0;34m]\u001b[0m\u001b[0;34m[\u001b[0m\u001b[0;36m0\u001b[0m\u001b[0;34m]\u001b[0m\u001b[0;34m,\u001b[0m\u001b[0msnake\u001b[0m\u001b[0;34m[\u001b[0m\u001b[0mi\u001b[0m\u001b[0;34m]\u001b[0m\u001b[0;34m[\u001b[0m\u001b[0;36m1\u001b[0m\u001b[0;34m]\u001b[0m\u001b[0;34m]\u001b[0m \u001b[0;34m=\u001b[0m \u001b[0;36m1\u001b[0m\u001b[0;34m\u001b[0m\u001b[0;34m\u001b[0m\u001b[0m\n\u001b[1;32m      4\u001b[0m     \u001b[0mdrawitall\u001b[0m\u001b[0;34m(\u001b[0m\u001b[0mgrid\u001b[0m\u001b[0;34m)\u001b[0m\u001b[0;34m\u001b[0m\u001b[0;34m\u001b[0m\u001b[0m\n\u001b[0;32m----> 5\u001b[0;31m     \u001b[0mtime\u001b[0m\u001b[0;34m.\u001b[0m\u001b[0msleep\u001b[0m\u001b[0;34m(\u001b[0m\u001b[0;36m0.5\u001b[0m\u001b[0;34m)\u001b[0m\u001b[0;34m\u001b[0m\u001b[0;34m\u001b[0m\u001b[0m\n\u001b[0m",
      "\u001b[0;31mKeyboardInterrupt\u001b[0m: "
     ]
    }
   ],
   "source": [
    "while True:\n",
    "    if direction() == 'F':\n",
    "        move_forward(grid,snake,facing)\n",
    "    elif direction() == 'R':\n",
    "        facing = turn(grid,snake,sn_head,facing,'R')\n",
    "    elif direction() == 'L':\n",
    "        facing = turn(grid,snake,sn_head,facing,'L')"
   ]
  },
  {
   "cell_type": "code",
   "execution_count": null,
   "metadata": {},
   "outputs": [],
   "source": []
  },
  {
   "cell_type": "code",
   "execution_count": null,
   "metadata": {},
   "outputs": [],
   "source": []
  }
 ],
 "metadata": {
  "kernelspec": {
   "display_name": "Python 3",
   "language": "python",
   "name": "python3"
  },
  "language_info": {
   "codemirror_mode": {
    "name": "ipython",
    "version": 3
   },
   "file_extension": ".py",
   "mimetype": "text/x-python",
   "name": "python",
   "nbconvert_exporter": "python",
   "pygments_lexer": "ipython3",
   "version": "3.7.4"
  }
 },
 "nbformat": 4,
 "nbformat_minor": 2
}
