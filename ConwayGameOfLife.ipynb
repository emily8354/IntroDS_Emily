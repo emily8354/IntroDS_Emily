{
 "cells": [
  {
   "cell_type": "code",
   "execution_count": 1,
   "metadata": {},
   "outputs": [],
   "source": [
    "import time\n",
    "import random\n",
    "import numpy as np\n",
    "import matplotlib.pyplot as plt\n",
    "from IPython.display import clear_output"
   ]
  },
  {
   "cell_type": "code",
   "execution_count": 2,
   "metadata": {},
   "outputs": [],
   "source": [
    "def drawitall(myarray):\n",
    "    x = list()\n",
    "    y = list()\n",
    "\n",
    "    height = myarray.shape[0]\n",
    "    width = myarray.shape[1]\n",
    "\n",
    "    for h in range(height):\n",
    "        for w in range(width):\n",
    "            if (myarray[h,w] > 0):\n",
    "                x.append(w)\n",
    "                y.append(height-h)\n",
    "    \n",
    "    plt.plot(x,y,'ro')\n",
    "    plt.axis([-1, width+1, -1, height+1]) \n",
    "    clear_output(True)   # clear the output so you can replot in the same place\n",
    "    plt.show()"
   ]
  },
  {
   "cell_type": "code",
   "execution_count": 3,
   "metadata": {},
   "outputs": [],
   "source": [
    "# counts how many of the eight neighboring cells around the cell at grid[x,y] are live\n",
    "def get_neighbors(grid,x,y):\n",
    "    count = 0\n",
    "    if grid[x+1,y] == 1:\n",
    "        count+=1\n",
    "    if grid[x+1,y-1] == 1:\n",
    "        count+=1\n",
    "    if grid[x,y-1] == 1:\n",
    "        count+=1\n",
    "    if grid[x-1,y-1] == 1:\n",
    "        count+=1\n",
    "    if grid[x-1,y] == 1:\n",
    "        count+=1\n",
    "    if grid[x-1,y+1] == 1:\n",
    "        count+=1\n",
    "    if grid[x,y+1] == 1:\n",
    "        count+=1\n",
    "    if grid[x+1,y+1] == 1:\n",
    "        count+=1\n",
    "    return count"
   ]
  },
  {
   "cell_type": "code",
   "execution_count": 4,
   "metadata": {},
   "outputs": [],
   "source": [
    "def apply_rules(grid):\n",
    "    new = grid.copy()\n",
    "    for i in range (1,grid.shape[0]-1):\n",
    "        for j in range (1,grid.shape[1]-1):\n",
    "            if grid[i,j] == 0 and get_neighbors(grid,i,j) == 3:\n",
    "                new[i,j] = 1\n",
    "            elif grid[i,j] == 1 and (get_neighbors(grid,i,j) == 2 or get_neighbors(grid,i,j) == 3):\n",
    "                new[i,j] = 1\n",
    "            elif grid[i,j] == 1:\n",
    "                new[i,j] = 0\n",
    "    return new"
   ]
  },
  {
   "cell_type": "code",
   "execution_count": 5,
   "metadata": {},
   "outputs": [
    {
     "data": {
      "image/png": "[encoded data removed]",
      "text/plain": [
       "<Figure size 144x144 with 1 Axes>"
      ]
     },
     "metadata": {
      "needs_background": "light"
     },
     "output_type": "display_data"
    }
   ],
   "source": [
    "plt.rcParams['figure.figsize'] = [2,2]\n",
    "universe = np.zeros( (10, 10), dtype=int)\n",
    "#setting up the glider\n",
    "universe[5,5] = 1\n",
    "universe[6,6] = 1\n",
    "universe[7,4] = 1\n",
    "universe[7,5] = 1\n",
    "universe[7,6] = 1\n",
    "for i in range (0,5):\n",
    "    drawitall(universe)\n",
    "    new = apply_rules(universe)\n",
    "    universe = new\n",
    "    time.sleep(1)"
   ]
  },
  {
   "cell_type": "code",
   "execution_count": 6,
   "metadata": {},
   "outputs": [
    {
     "data": {
      "image/png": "[encoded data removed]",
      "text/plain": [
       "<Figure size 360x360 with 1 Axes>"
      ]
     },
     "metadata": {
      "needs_background": "light"
     },
     "output_type": "display_data"
    }
   ],
   "source": [
    "plt.rcParams['figure.figsize'] = [5,5]\n",
    "universe = np.zeros( (30, 30), dtype=int)\n",
    "universe[15,15] = 1\n",
    "universe[14,15] = 1\n",
    "universe[15,14] = 1\n",
    "universe[15,16] = 1\n",
    "for i in range (0,10):\n",
    "    drawitall(universe)\n",
    "    new = apply_rules(universe)\n",
    "    universe = new\n",
    "    time.sleep(1)"
   ]
  },
  {
   "cell_type": "code",
   "execution_count": null,
   "metadata": {},
   "outputs": [],
   "source": []
  }
 ],
 "metadata": {
  "kernelspec": {
   "display_name": "Python 3",
   "language": "python",
   "name": "python3"
  },
  "language_info": {
   "codemirror_mode": {
    "name": "ipython",
    "version": 3
   },
   "file_extension": ".py",
   "mimetype": "text/x-python",
   "name": "python",
   "nbconvert_exporter": "python",
   "pygments_lexer": "ipython3",
   "version": "3.7.4"
  }
 },
 "nbformat": 4,
 "nbformat_minor": 2
}
