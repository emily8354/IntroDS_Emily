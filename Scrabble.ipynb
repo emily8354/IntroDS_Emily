{
 "cells": [
  {
   "cell_type": "code",
   "execution_count": 14,
   "metadata": {},
   "outputs": [],
   "source": [
    "import numpy as np"
   ]
  },
  {
   "cell_type": "code",
   "execution_count": 15,
   "metadata": {},
   "outputs": [],
   "source": [
    "def prettyprint(grid):\n",
    "    newgrid = np.zeros((6,6), dtype = object)\n",
    "    s = ''\n",
    "    for i in range (0,6):\n",
    "        for j in range(0,6):\n",
    "            if grid[i,j] == 0:\n",
    "                s = '  '\n",
    "            else:\n",
    "                s = chr(grid[i,j]+96)+' '\n",
    "            print(s,end='')\n",
    "        print()\n",
    "    #print(newgrid)"
   ]
  },
  {
   "cell_type": "code",
   "execution_count": 16,
   "metadata": {},
   "outputs": [
    {
     "name": "stdout",
     "output_type": "stream",
     "text": [
      "            \n",
      "            \n",
      "            \n",
      "d e c a f   \n",
      "            \n",
      "            \n"
     ]
    }
   ],
   "source": [
    "grid = np.zeros( (6,6), dtype = int )\n",
    "aword = 'decaf'\n",
    "x = 3   \n",
    "y = 0\n",
    "for letter in aword:\n",
    "    grid[ (x, y) ] = ord(letter) - 96\n",
    "    y += 1\n",
    "    if (y >= 6):\n",
    "        break  \n",
    "prettyprint(grid)"
   ]
  },
  {
   "cell_type": "code",
   "execution_count": 17,
   "metadata": {},
   "outputs": [],
   "source": [
    "def fit_h(grid,x,y,word):\n",
    "    y_len = y+len(word)\n",
    "    fits = True\n",
    "    if (y_len-1)>=6:\n",
    "        return False\n",
    "    for i in range(0,len(word)):\n",
    "        if grid[x,y+i] != 0 and grid[x,y+i] != (ord(word[i])-96):\n",
    "            fits = False\n",
    "            break\n",
    "        elif grid[x,y+i] == 0 or grid[x,y+i] == (ord(word[i])-96):\n",
    "            fits = True\n",
    "    return fits"
   ]
  },
  {
   "cell_type": "code",
   "execution_count": 18,
   "metadata": {},
   "outputs": [],
   "source": [
    "def fit_v(grid,x,y,word):\n",
    "    x_len = x+len(word)\n",
    "    fits = True\n",
    "    if (x_len-1)>=6:\n",
    "        return False\n",
    "    for i in range(0,len(word)):\n",
    "        if grid[x+i,y] != 0 and grid[x+i,y] != (ord(word[i])-96):\n",
    "            fits = False\n",
    "            break\n",
    "        elif grid[x+i,y] == 0 or grid[x+i,y] == (ord(word[i])-96):\n",
    "            fits = True\n",
    "    return fits"
   ]
  },
  {
   "cell_type": "code",
   "execution_count": 19,
   "metadata": {},
   "outputs": [],
   "source": [
    "def place_h(grid,x,y,word):\n",
    "    new = grid.copy()\n",
    "    i=0\n",
    "    for letter in word:\n",
    "        new[x,y+i] = ord(letter)-96\n",
    "        i+=1\n",
    "    return new"
   ]
  },
  {
   "cell_type": "code",
   "execution_count": 20,
   "metadata": {},
   "outputs": [],
   "source": [
    "def place_v(grid,x,y,word):\n",
    "    new = grid.copy()\n",
    "    i=0\n",
    "    for letter in word:\n",
    "        new[x+i,y] = ord(letter)-96\n",
    "        i+=1\n",
    "    return new"
   ]
  },
  {
   "cell_type": "code",
   "execution_count": 21,
   "metadata": {},
   "outputs": [
    {
     "name": "stdout",
     "output_type": "stream",
     "text": [
      "Picking word number 5 which is dace\n"
     ]
    }
   ],
   "source": [
    "# pick a random word \n",
    "import random\n",
    "wordlist = ['faced', 'decaf', 'fade', 'face', 'deaf', 'dace', 'cafe', 'cade', 'bead', 'bade', 'aced', 'abed', 'fed', \n",
    "'fad', 'fab', 'def', 'deb', 'dab', 'cad', 'cab', 'bed', 'bad', 'ace']\n",
    "w = int(len(wordlist) * random.random())\n",
    "print('Picking word number', w, 'which is', wordlist[w])"
   ]
  },
  {
   "cell_type": "code",
   "execution_count": 22,
   "metadata": {},
   "outputs": [
    {
     "name": "stdout",
     "output_type": "stream",
     "text": [
      "Try to put dace at 1 0\n"
     ]
    }
   ],
   "source": [
    "# ...and pick a random place to put it, and just see if it stays in the grid boundaries\n",
    "x = int(6 * random.random())\n",
    "y = int(6 * random.random())\n",
    "print('Try to put', wordlist[w], 'at', x, y)"
   ]
  },
  {
   "cell_type": "code",
   "execution_count": 23,
   "metadata": {},
   "outputs": [
    {
     "name": "stdout",
     "output_type": "stream",
     "text": [
      "            \n",
      "            \n",
      "            \n",
      "d e c a f   \n",
      "            \n",
      "            \n",
      "Fit horizontally: True\n",
      "Fit vertically: False\n"
     ]
    }
   ],
   "source": [
    "# seeing if the word fits in the grid\n",
    "prettyprint(grid)\n",
    "print('Fit horizontally: '+str(fit_h(grid,x,y,wordlist[w])))\n",
    "print('Fit vertically: '+str(fit_v(grid,x,y,wordlist[w])))"
   ]
  },
  {
   "cell_type": "code",
   "execution_count": 24,
   "metadata": {},
   "outputs": [
    {
     "name": "stdout",
     "output_type": "stream",
     "text": [
      "            \n",
      "d a c e     \n",
      "            \n",
      "d e c a f   \n",
      "            \n",
      "            \n"
     ]
    }
   ],
   "source": [
    "# placing the word in the grid if it fits\n",
    "if fit_h(grid,x,y,wordlist[w]):\n",
    "    new = place_h(grid,x,y,wordlist[w])\n",
    "elif fit_v(grid,x,y,wordlist[w]):\n",
    "    new = place_v(grid,x,y,wordlist[w])\n",
    "prettyprint(new)"
   ]
  },
  {
   "cell_type": "code",
   "execution_count": 25,
   "metadata": {},
   "outputs": [
    {
     "name": "stdout",
     "output_type": "stream",
     "text": [
      "            \n",
      "    d       \n",
      "    e       \n",
      "d e c a f   \n",
      "    a       \n",
      "    f       \n",
      "---------\n",
      "            \n",
      "    d       \n",
      "    e       \n",
      "d e c a f d \n",
      "    a     a \n",
      "    f     b \n",
      "---------\n",
      "            \n",
      "    d       \n",
      "    e       \n",
      "d e c a f d \n",
      "  f a d   a \n",
      "    f     b \n",
      "---------\n",
      "    c a d e \n",
      "    d       \n",
      "    e       \n",
      "d e c a f d \n",
      "  f a d   a \n",
      "    f     b \n",
      "---------\n",
      "    c a d e \n",
      "    d       \n",
      "    e       \n",
      "d e c a f d \n",
      "  f a d   a \n",
      "c a f e   b \n",
      "---------\n"
     ]
    }
   ],
   "source": [
    "# repeating more times\n",
    "count = 0\n",
    "while count < 5:\n",
    "    w = int(len(wordlist) * random.random())\n",
    "    x = int(6 * random.random())\n",
    "    y = int(6 * random.random())\n",
    "    if fit_h(grid,x,y,wordlist[w]):\n",
    "        new = place_h(grid,x,y,wordlist[w])\n",
    "        count+=1\n",
    "        prettyprint(new)\n",
    "        print('---------')\n",
    "    elif fit_v(grid,x,y,wordlist[w]):\n",
    "        new = place_v(grid,x,y,wordlist[w]) \n",
    "        count+=1\n",
    "        prettyprint(new)\n",
    "        print('---------')\n",
    "    grid = new"
   ]
  },
  {
   "cell_type": "code",
   "execution_count": null,
   "metadata": {},
   "outputs": [],
   "source": []
  },
  {
   "cell_type": "code",
   "execution_count": null,
   "metadata": {},
   "outputs": [],
   "source": []
  }
 ],
 "metadata": {
  "kernelspec": {
   "display_name": "Python 3",
   "language": "python",
   "name": "python3"
  },
  "language_info": {
   "codemirror_mode": {
    "name": "ipython",
    "version": 3
   },
   "file_extension": ".py",
   "mimetype": "text/x-python",
   "name": "python",
   "nbconvert_exporter": "python",
   "pygments_lexer": "ipython3",
   "version": "3.7.4"
  }
 },
 "nbformat": 4,
 "nbformat_minor": 2
}
